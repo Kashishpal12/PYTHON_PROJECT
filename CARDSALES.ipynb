{
  "cells": [
    {
      "cell_type": "code",
      "execution_count": null,
      "id": "99ffa1c9",
      "metadata": {
        "id": "99ffa1c9"
      },
      "outputs": [],
      "source": [
        "                                                           #Capstone Project 1\n",
        "\n",
        "\n",
        "# Importing Liabraries\n",
        "\n",
        "import pandas as pd\n",
        "import numpy as np\n",
        "import matplotlib.pyplot as plt\n",
        "import seaborn as sns\n",
        "\n",
        "import warnings\n",
        "warnings.filterwarnings(\"ignore\")"
      ]
    },
    {
      "cell_type": "code",
      "execution_count": null,
      "id": "702bc498",
      "metadata": {
        "id": "702bc498"
      },
      "outputs": [],
      "source": [
        "# Importing data \n",
        "\n",
        "credit_card = pd.read_csv(r\"C:\\Users\\propa\\Desktop\\Kashish\\Credit_card.csv\" )\n",
        "credit_card_label = pd.read_csv(r\"C:\\Users\\propa\\Desktop\\Kashish\\credit_card_label.csv\")"
      ]
    },
    {
      "cell_type": "code",
      "execution_count": null,
      "id": "04480452",
      "metadata": {
        "id": "04480452",
        "outputId": "9344aba6-28a2-4fc8-f07b-9483d19f5285"
      },
      "outputs": [
        {
          "data": {
            "text/html": [
              "<div>\n",
              "<style scoped>\n",
              "    .dataframe tbody tr th:only-of-type {\n",
              "        vertical-align: middle;\n",
              "    }\n",
              "\n",
              "    .dataframe tbody tr th {\n",
              "        vertical-align: top;\n",
              "    }\n",
              "\n",
              "    .dataframe thead th {\n",
              "        text-align: right;\n",
              "    }\n",
              "</style>\n",
              "<table border=\"1\" class=\"dataframe\">\n",
              "  <thead>\n",
              "    <tr style=\"text-align: right;\">\n",
              "      <th></th>\n",
              "      <th>Ind_ID</th>\n",
              "      <th>GENDER</th>\n",
              "      <th>Car_Owner</th>\n",
              "      <th>Propert_Owner</th>\n",
              "      <th>CHILDREN</th>\n",
              "      <th>Annual_income</th>\n",
              "      <th>Type_Income</th>\n",
              "      <th>EDUCATION</th>\n",
              "      <th>Marital_status</th>\n",
              "      <th>Housing_type</th>\n",
              "      <th>Birthday_count</th>\n",
              "      <th>Employed_days</th>\n",
              "      <th>Mobile_phone</th>\n",
              "      <th>Work_Phone</th>\n",
              "      <th>Phone</th>\n",
              "      <th>EMAIL_ID</th>\n",
              "      <th>Type_Occupation</th>\n",
              "      <th>Family_Members</th>\n",
              "    </tr>\n",
              "  </thead>\n",
              "  <tbody>\n",
              "    <tr>\n",
              "      <th>0</th>\n",
              "      <td>5008827</td>\n",
              "      <td>M</td>\n",
              "      <td>Y</td>\n",
              "      <td>Y</td>\n",
              "      <td>0</td>\n",
              "      <td>180000.0</td>\n",
              "      <td>Pensioner</td>\n",
              "      <td>Higher education</td>\n",
              "      <td>Married</td>\n",
              "      <td>House / apartment</td>\n",
              "      <td>-18772.0</td>\n",
              "      <td>365243</td>\n",
              "      <td>1</td>\n",
              "      <td>0</td>\n",
              "      <td>0</td>\n",
              "      <td>0</td>\n",
              "      <td>NaN</td>\n",
              "      <td>2</td>\n",
              "    </tr>\n",
              "    <tr>\n",
              "      <th>1</th>\n",
              "      <td>5009744</td>\n",
              "      <td>F</td>\n",
              "      <td>Y</td>\n",
              "      <td>N</td>\n",
              "      <td>0</td>\n",
              "      <td>315000.0</td>\n",
              "      <td>Commercial associate</td>\n",
              "      <td>Higher education</td>\n",
              "      <td>Married</td>\n",
              "      <td>House / apartment</td>\n",
              "      <td>-13557.0</td>\n",
              "      <td>-586</td>\n",
              "      <td>1</td>\n",
              "      <td>1</td>\n",
              "      <td>1</td>\n",
              "      <td>0</td>\n",
              "      <td>NaN</td>\n",
              "      <td>2</td>\n",
              "    </tr>\n",
              "    <tr>\n",
              "      <th>2</th>\n",
              "      <td>5009746</td>\n",
              "      <td>F</td>\n",
              "      <td>Y</td>\n",
              "      <td>N</td>\n",
              "      <td>0</td>\n",
              "      <td>315000.0</td>\n",
              "      <td>Commercial associate</td>\n",
              "      <td>Higher education</td>\n",
              "      <td>Married</td>\n",
              "      <td>House / apartment</td>\n",
              "      <td>NaN</td>\n",
              "      <td>-586</td>\n",
              "      <td>1</td>\n",
              "      <td>1</td>\n",
              "      <td>1</td>\n",
              "      <td>0</td>\n",
              "      <td>NaN</td>\n",
              "      <td>2</td>\n",
              "    </tr>\n",
              "    <tr>\n",
              "      <th>3</th>\n",
              "      <td>5009749</td>\n",
              "      <td>F</td>\n",
              "      <td>Y</td>\n",
              "      <td>N</td>\n",
              "      <td>0</td>\n",
              "      <td>NaN</td>\n",
              "      <td>Commercial associate</td>\n",
              "      <td>Higher education</td>\n",
              "      <td>Married</td>\n",
              "      <td>House / apartment</td>\n",
              "      <td>-13557.0</td>\n",
              "      <td>-586</td>\n",
              "      <td>1</td>\n",
              "      <td>1</td>\n",
              "      <td>1</td>\n",
              "      <td>0</td>\n",
              "      <td>NaN</td>\n",
              "      <td>2</td>\n",
              "    </tr>\n",
              "    <tr>\n",
              "      <th>4</th>\n",
              "      <td>5009752</td>\n",
              "      <td>F</td>\n",
              "      <td>Y</td>\n",
              "      <td>N</td>\n",
              "      <td>0</td>\n",
              "      <td>315000.0</td>\n",
              "      <td>Commercial associate</td>\n",
              "      <td>Higher education</td>\n",
              "      <td>Married</td>\n",
              "      <td>House / apartment</td>\n",
              "      <td>-13557.0</td>\n",
              "      <td>-586</td>\n",
              "      <td>1</td>\n",
              "      <td>1</td>\n",
              "      <td>1</td>\n",
              "      <td>0</td>\n",
              "      <td>NaN</td>\n",
              "      <td>2</td>\n",
              "    </tr>\n",
              "  </tbody>\n",
              "</table>\n",
              "</div>"
            ],
            "text/plain": [
              "    Ind_ID GENDER Car_Owner Propert_Owner  CHILDREN  Annual_income  \\\n",
              "0  5008827      M         Y             Y         0       180000.0   \n",
              "1  5009744      F         Y             N         0       315000.0   \n",
              "2  5009746      F         Y             N         0       315000.0   \n",
              "3  5009749      F         Y             N         0            NaN   \n",
              "4  5009752      F         Y             N         0       315000.0   \n",
              "\n",
              "            Type_Income         EDUCATION Marital_status       Housing_type  \\\n",
              "0             Pensioner  Higher education        Married  House / apartment   \n",
              "1  Commercial associate  Higher education        Married  House / apartment   \n",
              "2  Commercial associate  Higher education        Married  House / apartment   \n",
              "3  Commercial associate  Higher education        Married  House / apartment   \n",
              "4  Commercial associate  Higher education        Married  House / apartment   \n",
              "\n",
              "   Birthday_count  Employed_days  Mobile_phone  Work_Phone  Phone  EMAIL_ID  \\\n",
              "0        -18772.0         365243             1           0      0         0   \n",
              "1        -13557.0           -586             1           1      1         0   \n",
              "2             NaN           -586             1           1      1         0   \n",
              "3        -13557.0           -586             1           1      1         0   \n",
              "4        -13557.0           -586             1           1      1         0   \n",
              "\n",
              "  Type_Occupation  Family_Members  \n",
              "0             NaN               2  \n",
              "1             NaN               2  \n",
              "2             NaN               2  \n",
              "3             NaN               2  \n",
              "4             NaN               2  "
            ]
          },
          "execution_count": 3,
          "metadata": {},
          "output_type": "execute_result"
        }
      ],
      "source": [
        "credit_card.head()"
      ]
    },
    {
      "cell_type": "code",
      "execution_count": null,
      "id": "8fa0a819",
      "metadata": {
        "id": "8fa0a819",
        "outputId": "9673c0e1-14fc-4bd1-f206-07e7cf063b43"
      },
      "outputs": [
        {
          "data": {
            "text/html": [
              "<div>\n",
              "<style scoped>\n",
              "    .dataframe tbody tr th:only-of-type {\n",
              "        vertical-align: middle;\n",
              "    }\n",
              "\n",
              "    .dataframe tbody tr th {\n",
              "        vertical-align: top;\n",
              "    }\n",
              "\n",
              "    .dataframe thead th {\n",
              "        text-align: right;\n",
              "    }\n",
              "</style>\n",
              "<table border=\"1\" class=\"dataframe\">\n",
              "  <thead>\n",
              "    <tr style=\"text-align: right;\">\n",
              "      <th></th>\n",
              "      <th>Ind_ID</th>\n",
              "      <th>label</th>\n",
              "    </tr>\n",
              "  </thead>\n",
              "  <tbody>\n",
              "    <tr>\n",
              "      <th>0</th>\n",
              "      <td>5008827</td>\n",
              "      <td>1</td>\n",
              "    </tr>\n",
              "    <tr>\n",
              "      <th>1</th>\n",
              "      <td>5009744</td>\n",
              "      <td>1</td>\n",
              "    </tr>\n",
              "    <tr>\n",
              "      <th>2</th>\n",
              "      <td>5009746</td>\n",
              "      <td>1</td>\n",
              "    </tr>\n",
              "    <tr>\n",
              "      <th>3</th>\n",
              "      <td>5009749</td>\n",
              "      <td>1</td>\n",
              "    </tr>\n",
              "    <tr>\n",
              "      <th>4</th>\n",
              "      <td>5009752</td>\n",
              "      <td>1</td>\n",
              "    </tr>\n",
              "  </tbody>\n",
              "</table>\n",
              "</div>"
            ],
            "text/plain": [
              "    Ind_ID  label\n",
              "0  5008827      1\n",
              "1  5009744      1\n",
              "2  5009746      1\n",
              "3  5009749      1\n",
              "4  5009752      1"
            ]
          },
          "execution_count": 4,
          "metadata": {},
          "output_type": "execute_result"
        }
      ],
      "source": [
        "credit_card_label.head()"
      ]
    },
    {
      "cell_type": "markdown",
      "id": "f3ab0aee",
      "metadata": {
        "id": "f3ab0aee"
      },
      "source": [
        "# Inspecting data"
      ]
    },
    {
      "cell_type": "markdown",
      "id": "58a44400",
      "metadata": {
        "id": "58a44400"
      },
      "source": [
        "### Inspecting credit_card data"
      ]
    },
    {
      "cell_type": "code",
      "execution_count": null,
      "id": "6f149bf2",
      "metadata": {
        "id": "6f149bf2",
        "outputId": "1f3abd41-1614-4e3c-9324-89832f503530"
      },
      "outputs": [
        {
          "data": {
            "text/plain": [
              "(1548, 18)"
            ]
          },
          "execution_count": 5,
          "metadata": {},
          "output_type": "execute_result"
        }
      ],
      "source": [
        "credit_card.shape"
      ]
    },
    {
      "cell_type": "code",
      "execution_count": null,
      "id": "5d0a1f52",
      "metadata": {
        "id": "5d0a1f52",
        "outputId": "a0efc0d5-f4a6-4140-c200-74d8165613e3"
      },
      "outputs": [
        {
          "data": {
            "text/plain": [
              "Index(['Ind_ID', 'GENDER', 'Car_Owner', 'Propert_Owner', 'CHILDREN',\n",
              "       'Annual_income', 'Type_Income', 'EDUCATION', 'Marital_status',\n",
              "       'Housing_type', 'Birthday_count', 'Employed_days', 'Mobile_phone',\n",
              "       'Work_Phone', 'Phone', 'EMAIL_ID', 'Type_Occupation', 'Family_Members'],\n",
              "      dtype='object')"
            ]
          },
          "execution_count": 6,
          "metadata": {},
          "output_type": "execute_result"
        }
      ],
      "source": [
        "credit_card.columns"
      ]
    },
    {
      "cell_type": "code",
      "execution_count": null,
      "id": "182d886c",
      "metadata": {
        "id": "182d886c",
        "outputId": "62374ea0-b180-405a-c06e-b77e6df5c077"
      },
      "outputs": [
        {
          "name": "stdout",
          "output_type": "stream",
          "text": [
            "<class 'pandas.core.frame.DataFrame'>\n",
            "RangeIndex: 1548 entries, 0 to 1547\n",
            "Data columns (total 18 columns):\n",
            " #   Column           Non-Null Count  Dtype  \n",
            "---  ------           --------------  -----  \n",
            " 0   Ind_ID           1548 non-null   int64  \n",
            " 1   GENDER           1541 non-null   object \n",
            " 2   Car_Owner        1548 non-null   object \n",
            " 3   Propert_Owner    1548 non-null   object \n",
            " 4   CHILDREN         1548 non-null   int64  \n",
            " 5   Annual_income    1525 non-null   float64\n",
            " 6   Type_Income      1548 non-null   object \n",
            " 7   EDUCATION        1548 non-null   object \n",
            " 8   Marital_status   1548 non-null   object \n",
            " 9   Housing_type     1548 non-null   object \n",
            " 10  Birthday_count   1526 non-null   float64\n",
            " 11  Employed_days    1548 non-null   int64  \n",
            " 12  Mobile_phone     1548 non-null   int64  \n",
            " 13  Work_Phone       1548 non-null   int64  \n",
            " 14  Phone            1548 non-null   int64  \n",
            " 15  EMAIL_ID         1548 non-null   int64  \n",
            " 16  Type_Occupation  1060 non-null   object \n",
            " 17  Family_Members   1548 non-null   int64  \n",
            "dtypes: float64(2), int64(8), object(8)\n",
            "memory usage: 217.8+ KB\n"
          ]
        }
      ],
      "source": [
        "credit_card.info()"
      ]
    },
    {
      "cell_type": "code",
      "execution_count": null,
      "id": "a0feb184",
      "metadata": {
        "id": "a0feb184"
      },
      "outputs": [],
      "source": [
        "pd.set_option('display.float_format', '{:.2f}'.format)"
      ]
    },
    {
      "cell_type": "code",
      "execution_count": null,
      "id": "bb25953c",
      "metadata": {
        "id": "bb25953c",
        "outputId": "4e77b2fb-7207-4b64-dbb4-169dcf2a069a"
      },
      "outputs": [
        {
          "data": {
            "text/html": [
              "<div>\n",
              "<style scoped>\n",
              "    .dataframe tbody tr th:only-of-type {\n",
              "        vertical-align: middle;\n",
              "    }\n",
              "\n",
              "    .dataframe tbody tr th {\n",
              "        vertical-align: top;\n",
              "    }\n",
              "\n",
              "    .dataframe thead th {\n",
              "        text-align: right;\n",
              "    }\n",
              "</style>\n",
              "<table border=\"1\" class=\"dataframe\">\n",
              "  <thead>\n",
              "    <tr style=\"text-align: right;\">\n",
              "      <th></th>\n",
              "      <th>Ind_ID</th>\n",
              "      <th>CHILDREN</th>\n",
              "      <th>Annual_income</th>\n",
              "      <th>Birthday_count</th>\n",
              "      <th>Employed_days</th>\n",
              "      <th>Mobile_phone</th>\n",
              "      <th>Work_Phone</th>\n",
              "      <th>Phone</th>\n",
              "      <th>EMAIL_ID</th>\n",
              "      <th>Family_Members</th>\n",
              "    </tr>\n",
              "  </thead>\n",
              "  <tbody>\n",
              "    <tr>\n",
              "      <th>count</th>\n",
              "      <td>1548.00</td>\n",
              "      <td>1548.00</td>\n",
              "      <td>1525.00</td>\n",
              "      <td>1526.00</td>\n",
              "      <td>1548.00</td>\n",
              "      <td>1548.00</td>\n",
              "      <td>1548.00</td>\n",
              "      <td>1548.00</td>\n",
              "      <td>1548.00</td>\n",
              "      <td>1548.00</td>\n",
              "    </tr>\n",
              "    <tr>\n",
              "      <th>mean</th>\n",
              "      <td>5078920.35</td>\n",
              "      <td>0.41</td>\n",
              "      <td>191399.33</td>\n",
              "      <td>-16040.34</td>\n",
              "      <td>59364.69</td>\n",
              "      <td>1.00</td>\n",
              "      <td>0.21</td>\n",
              "      <td>0.31</td>\n",
              "      <td>0.09</td>\n",
              "      <td>2.16</td>\n",
              "    </tr>\n",
              "    <tr>\n",
              "      <th>std</th>\n",
              "      <td>41717.59</td>\n",
              "      <td>0.78</td>\n",
              "      <td>113253.00</td>\n",
              "      <td>4229.50</td>\n",
              "      <td>137808.06</td>\n",
              "      <td>0.00</td>\n",
              "      <td>0.41</td>\n",
              "      <td>0.46</td>\n",
              "      <td>0.29</td>\n",
              "      <td>0.95</td>\n",
              "    </tr>\n",
              "    <tr>\n",
              "      <th>min</th>\n",
              "      <td>5008827.00</td>\n",
              "      <td>0.00</td>\n",
              "      <td>33750.00</td>\n",
              "      <td>-24946.00</td>\n",
              "      <td>-14887.00</td>\n",
              "      <td>1.00</td>\n",
              "      <td>0.00</td>\n",
              "      <td>0.00</td>\n",
              "      <td>0.00</td>\n",
              "      <td>1.00</td>\n",
              "    </tr>\n",
              "    <tr>\n",
              "      <th>25%</th>\n",
              "      <td>5045069.75</td>\n",
              "      <td>0.00</td>\n",
              "      <td>121500.00</td>\n",
              "      <td>-19553.00</td>\n",
              "      <td>-3174.50</td>\n",
              "      <td>1.00</td>\n",
              "      <td>0.00</td>\n",
              "      <td>0.00</td>\n",
              "      <td>0.00</td>\n",
              "      <td>2.00</td>\n",
              "    </tr>\n",
              "    <tr>\n",
              "      <th>50%</th>\n",
              "      <td>5078841.50</td>\n",
              "      <td>0.00</td>\n",
              "      <td>166500.00</td>\n",
              "      <td>-15661.50</td>\n",
              "      <td>-1565.00</td>\n",
              "      <td>1.00</td>\n",
              "      <td>0.00</td>\n",
              "      <td>0.00</td>\n",
              "      <td>0.00</td>\n",
              "      <td>2.00</td>\n",
              "    </tr>\n",
              "    <tr>\n",
              "      <th>75%</th>\n",
              "      <td>5115673.00</td>\n",
              "      <td>1.00</td>\n",
              "      <td>225000.00</td>\n",
              "      <td>-12417.00</td>\n",
              "      <td>-431.75</td>\n",
              "      <td>1.00</td>\n",
              "      <td>0.00</td>\n",
              "      <td>1.00</td>\n",
              "      <td>0.00</td>\n",
              "      <td>3.00</td>\n",
              "    </tr>\n",
              "    <tr>\n",
              "      <th>max</th>\n",
              "      <td>5150412.00</td>\n",
              "      <td>14.00</td>\n",
              "      <td>1575000.00</td>\n",
              "      <td>-7705.00</td>\n",
              "      <td>365243.00</td>\n",
              "      <td>1.00</td>\n",
              "      <td>1.00</td>\n",
              "      <td>1.00</td>\n",
              "      <td>1.00</td>\n",
              "      <td>15.00</td>\n",
              "    </tr>\n",
              "  </tbody>\n",
              "</table>\n",
              "</div>"
            ],
            "text/plain": [
              "          Ind_ID  CHILDREN  Annual_income  Birthday_count  Employed_days  \\\n",
              "count    1548.00   1548.00        1525.00         1526.00        1548.00   \n",
              "mean  5078920.35      0.41      191399.33       -16040.34       59364.69   \n",
              "std     41717.59      0.78      113253.00         4229.50      137808.06   \n",
              "min   5008827.00      0.00       33750.00       -24946.00      -14887.00   \n",
              "25%   5045069.75      0.00      121500.00       -19553.00       -3174.50   \n",
              "50%   5078841.50      0.00      166500.00       -15661.50       -1565.00   \n",
              "75%   5115673.00      1.00      225000.00       -12417.00        -431.75   \n",
              "max   5150412.00     14.00     1575000.00        -7705.00      365243.00   \n",
              "\n",
              "       Mobile_phone  Work_Phone   Phone  EMAIL_ID  Family_Members  \n",
              "count       1548.00     1548.00 1548.00   1548.00         1548.00  \n",
              "mean           1.00        0.21    0.31      0.09            2.16  \n",
              "std            0.00        0.41    0.46      0.29            0.95  \n",
              "min            1.00        0.00    0.00      0.00            1.00  \n",
              "25%            1.00        0.00    0.00      0.00            2.00  \n",
              "50%            1.00        0.00    0.00      0.00            2.00  \n",
              "75%            1.00        0.00    1.00      0.00            3.00  \n",
              "max            1.00        1.00    1.00      1.00           15.00  "
            ]
          },
          "execution_count": 9,
          "metadata": {},
          "output_type": "execute_result"
        }
      ],
      "source": [
        "# checking statistical summary of numerical columns\n",
        "\n",
        "credit_card.describe()"
      ]
    },
    {
      "cell_type": "code",
      "execution_count": null,
      "id": "2721e367",
      "metadata": {
        "id": "2721e367",
        "outputId": "402e326c-db54-4e78-d1ce-5fe742afd2ab"
      },
      "outputs": [
        {
          "data": {
            "text/plain": [
              "Type_Occupation    488\n",
              "Annual_income       23\n",
              "Birthday_count      22\n",
              "GENDER               7\n",
              "Ind_ID               0\n",
              "EMAIL_ID             0\n",
              "Phone                0\n",
              "Work_Phone           0\n",
              "Mobile_phone         0\n",
              "Employed_days        0\n",
              "Housing_type         0\n",
              "Marital_status       0\n",
              "EDUCATION            0\n",
              "Type_Income          0\n",
              "CHILDREN             0\n",
              "Propert_Owner        0\n",
              "Car_Owner            0\n",
              "Family_Members       0\n",
              "dtype: int64"
            ]
          },
          "execution_count": 10,
          "metadata": {},
          "output_type": "execute_result"
        }
      ],
      "source": [
        "# checking null values\n",
        "\n",
        "credit_card.isnull().sum().sort_values(ascending = False)"
      ]
    },
    {
      "cell_type": "markdown",
      "id": "ac0cb76c",
      "metadata": {
        "id": "ac0cb76c"
      },
      "source": [
        "#### credit_card data has some null values"
      ]
    },
    {
      "cell_type": "markdown",
      "id": "3acc33d4",
      "metadata": {
        "id": "3acc33d4"
      },
      "source": [
        "### Inspecting credit_card data"
      ]
    },
    {
      "cell_type": "code",
      "execution_count": null,
      "id": "0d186cb0",
      "metadata": {
        "id": "0d186cb0",
        "outputId": "f36504a4-32bd-4d68-c50b-330a3e837ff8"
      },
      "outputs": [
        {
          "data": {
            "text/plain": [
              "(1548, 2)"
            ]
          },
          "execution_count": 11,
          "metadata": {},
          "output_type": "execute_result"
        }
      ],
      "source": [
        "credit_card_label.shape"
      ]
    },
    {
      "cell_type": "code",
      "execution_count": null,
      "id": "3c0d07a3",
      "metadata": {
        "id": "3c0d07a3",
        "outputId": "61fa157c-c864-46c9-f626-3554dc0fd22a"
      },
      "outputs": [
        {
          "name": "stdout",
          "output_type": "stream",
          "text": [
            "<class 'pandas.core.frame.DataFrame'>\n",
            "RangeIndex: 1548 entries, 0 to 1547\n",
            "Data columns (total 2 columns):\n",
            " #   Column  Non-Null Count  Dtype\n",
            "---  ------  --------------  -----\n",
            " 0   Ind_ID  1548 non-null   int64\n",
            " 1   label   1548 non-null   int64\n",
            "dtypes: int64(2)\n",
            "memory usage: 24.3 KB\n"
          ]
        }
      ],
      "source": [
        "credit_card_label.info()"
      ]
    },
    {
      "cell_type": "code",
      "execution_count": null,
      "id": "d75ce3b8",
      "metadata": {
        "id": "d75ce3b8"
      },
      "outputs": [],
      "source": [
        "pd.set_option('display.float_format', '{:.2f}'.format)"
      ]
    },
    {
      "cell_type": "code",
      "execution_count": null,
      "id": "e87a4469",
      "metadata": {
        "id": "e87a4469",
        "outputId": "42256ee6-1768-4c2c-d869-b7e1936eb55d"
      },
      "outputs": [
        {
          "data": {
            "text/html": [
              "<div>\n",
              "<style scoped>\n",
              "    .dataframe tbody tr th:only-of-type {\n",
              "        vertical-align: middle;\n",
              "    }\n",
              "\n",
              "    .dataframe tbody tr th {\n",
              "        vertical-align: top;\n",
              "    }\n",
              "\n",
              "    .dataframe thead th {\n",
              "        text-align: right;\n",
              "    }\n",
              "</style>\n",
              "<table border=\"1\" class=\"dataframe\">\n",
              "  <thead>\n",
              "    <tr style=\"text-align: right;\">\n",
              "      <th></th>\n",
              "      <th>Ind_ID</th>\n",
              "      <th>label</th>\n",
              "    </tr>\n",
              "  </thead>\n",
              "  <tbody>\n",
              "    <tr>\n",
              "      <th>count</th>\n",
              "      <td>1548.00</td>\n",
              "      <td>1548.00</td>\n",
              "    </tr>\n",
              "    <tr>\n",
              "      <th>mean</th>\n",
              "      <td>5078920.35</td>\n",
              "      <td>0.11</td>\n",
              "    </tr>\n",
              "    <tr>\n",
              "      <th>std</th>\n",
              "      <td>41717.59</td>\n",
              "      <td>0.32</td>\n",
              "    </tr>\n",
              "    <tr>\n",
              "      <th>min</th>\n",
              "      <td>5008827.00</td>\n",
              "      <td>0.00</td>\n",
              "    </tr>\n",
              "    <tr>\n",
              "      <th>25%</th>\n",
              "      <td>5045069.75</td>\n",
              "      <td>0.00</td>\n",
              "    </tr>\n",
              "    <tr>\n",
              "      <th>50%</th>\n",
              "      <td>5078841.50</td>\n",
              "      <td>0.00</td>\n",
              "    </tr>\n",
              "    <tr>\n",
              "      <th>75%</th>\n",
              "      <td>5115673.00</td>\n",
              "      <td>0.00</td>\n",
              "    </tr>\n",
              "    <tr>\n",
              "      <th>max</th>\n",
              "      <td>5150412.00</td>\n",
              "      <td>1.00</td>\n",
              "    </tr>\n",
              "  </tbody>\n",
              "</table>\n",
              "</div>"
            ],
            "text/plain": [
              "          Ind_ID   label\n",
              "count    1548.00 1548.00\n",
              "mean  5078920.35    0.11\n",
              "std     41717.59    0.32\n",
              "min   5008827.00    0.00\n",
              "25%   5045069.75    0.00\n",
              "50%   5078841.50    0.00\n",
              "75%   5115673.00    0.00\n",
              "max   5150412.00    1.00"
            ]
          },
          "execution_count": 14,
          "metadata": {},
          "output_type": "execute_result"
        }
      ],
      "source": [
        "# checking statistical summary of numerical columns\n",
        "\n",
        "credit_card_label.describe()"
      ]
    },
    {
      "cell_type": "code",
      "execution_count": null,
      "id": "c9a6bde3",
      "metadata": {
        "id": "c9a6bde3",
        "outputId": "f3200da5-4f0a-4e2d-b3f5-4c163390593d"
      },
      "outputs": [
        {
          "data": {
            "text/plain": [
              "Ind_ID    0\n",
              "label     0\n",
              "dtype: int64"
            ]
          },
          "execution_count": 15,
          "metadata": {},
          "output_type": "execute_result"
        }
      ],
      "source": [
        "# checking null values\n",
        "\n",
        "credit_card_label.isnull().sum().sort_values(ascending = False)"
      ]
    },
    {
      "cell_type": "markdown",
      "id": "02569e86",
      "metadata": {
        "id": "02569e86"
      },
      "source": [
        "#### credit_card_label data has no null values\n"
      ]
    },
    {
      "cell_type": "markdown",
      "id": "cd389850",
      "metadata": {
        "id": "cd389850"
      },
      "source": [
        "# Data Cleaning"
      ]
    },
    {
      "cell_type": "markdown",
      "id": "a2f9f84b",
      "metadata": {
        "id": "a2f9f84b"
      },
      "source": [
        "### Cleaning credit_card"
      ]
    },
    {
      "cell_type": "code",
      "execution_count": null,
      "id": "c24c0a2e",
      "metadata": {
        "id": "c24c0a2e",
        "outputId": "9ee1503f-067b-4f39-e061-06ab75b2d78e"
      },
      "outputs": [
        {
          "data": {
            "text/html": [
              "<div>\n",
              "<style scoped>\n",
              "    .dataframe tbody tr th:only-of-type {\n",
              "        vertical-align: middle;\n",
              "    }\n",
              "\n",
              "    .dataframe tbody tr th {\n",
              "        vertical-align: top;\n",
              "    }\n",
              "\n",
              "    .dataframe thead th {\n",
              "        text-align: right;\n",
              "    }\n",
              "</style>\n",
              "<table border=\"1\" class=\"dataframe\">\n",
              "  <thead>\n",
              "    <tr style=\"text-align: right;\">\n",
              "      <th></th>\n",
              "      <th>Ind_ID</th>\n",
              "      <th>GENDER</th>\n",
              "      <th>Car_Owner</th>\n",
              "      <th>Propert_Owner</th>\n",
              "      <th>CHILDREN</th>\n",
              "      <th>Annual_income</th>\n",
              "      <th>Type_Income</th>\n",
              "      <th>EDUCATION</th>\n",
              "      <th>Marital_status</th>\n",
              "      <th>Housing_type</th>\n",
              "      <th>Birthday_count</th>\n",
              "      <th>Employed_days</th>\n",
              "      <th>Mobile_phone</th>\n",
              "      <th>Work_Phone</th>\n",
              "      <th>Phone</th>\n",
              "      <th>EMAIL_ID</th>\n",
              "      <th>Type_Occupation</th>\n",
              "      <th>Family_Members</th>\n",
              "    </tr>\n",
              "  </thead>\n",
              "  <tbody>\n",
              "    <tr>\n",
              "      <th>0</th>\n",
              "      <td>5008827</td>\n",
              "      <td>M</td>\n",
              "      <td>Y</td>\n",
              "      <td>Y</td>\n",
              "      <td>0</td>\n",
              "      <td>180000.00</td>\n",
              "      <td>Pensioner</td>\n",
              "      <td>Higher education</td>\n",
              "      <td>Married</td>\n",
              "      <td>House / apartment</td>\n",
              "      <td>-18772.00</td>\n",
              "      <td>365243</td>\n",
              "      <td>1</td>\n",
              "      <td>0</td>\n",
              "      <td>0</td>\n",
              "      <td>0</td>\n",
              "      <td>NaN</td>\n",
              "      <td>2</td>\n",
              "    </tr>\n",
              "    <tr>\n",
              "      <th>1</th>\n",
              "      <td>5009744</td>\n",
              "      <td>F</td>\n",
              "      <td>Y</td>\n",
              "      <td>N</td>\n",
              "      <td>0</td>\n",
              "      <td>315000.00</td>\n",
              "      <td>Commercial associate</td>\n",
              "      <td>Higher education</td>\n",
              "      <td>Married</td>\n",
              "      <td>House / apartment</td>\n",
              "      <td>-13557.00</td>\n",
              "      <td>-586</td>\n",
              "      <td>1</td>\n",
              "      <td>1</td>\n",
              "      <td>1</td>\n",
              "      <td>0</td>\n",
              "      <td>NaN</td>\n",
              "      <td>2</td>\n",
              "    </tr>\n",
              "    <tr>\n",
              "      <th>2</th>\n",
              "      <td>5009746</td>\n",
              "      <td>F</td>\n",
              "      <td>Y</td>\n",
              "      <td>N</td>\n",
              "      <td>0</td>\n",
              "      <td>315000.00</td>\n",
              "      <td>Commercial associate</td>\n",
              "      <td>Higher education</td>\n",
              "      <td>Married</td>\n",
              "      <td>House / apartment</td>\n",
              "      <td>NaN</td>\n",
              "      <td>-586</td>\n",
              "      <td>1</td>\n",
              "      <td>1</td>\n",
              "      <td>1</td>\n",
              "      <td>0</td>\n",
              "      <td>NaN</td>\n",
              "      <td>2</td>\n",
              "    </tr>\n",
              "    <tr>\n",
              "      <th>3</th>\n",
              "      <td>5009749</td>\n",
              "      <td>F</td>\n",
              "      <td>Y</td>\n",
              "      <td>N</td>\n",
              "      <td>0</td>\n",
              "      <td>NaN</td>\n",
              "      <td>Commercial associate</td>\n",
              "      <td>Higher education</td>\n",
              "      <td>Married</td>\n",
              "      <td>House / apartment</td>\n",
              "      <td>-13557.00</td>\n",
              "      <td>-586</td>\n",
              "      <td>1</td>\n",
              "      <td>1</td>\n",
              "      <td>1</td>\n",
              "      <td>0</td>\n",
              "      <td>NaN</td>\n",
              "      <td>2</td>\n",
              "    </tr>\n",
              "    <tr>\n",
              "      <th>4</th>\n",
              "      <td>5009752</td>\n",
              "      <td>F</td>\n",
              "      <td>Y</td>\n",
              "      <td>N</td>\n",
              "      <td>0</td>\n",
              "      <td>315000.00</td>\n",
              "      <td>Commercial associate</td>\n",
              "      <td>Higher education</td>\n",
              "      <td>Married</td>\n",
              "      <td>House / apartment</td>\n",
              "      <td>-13557.00</td>\n",
              "      <td>-586</td>\n",
              "      <td>1</td>\n",
              "      <td>1</td>\n",
              "      <td>1</td>\n",
              "      <td>0</td>\n",
              "      <td>NaN</td>\n",
              "      <td>2</td>\n",
              "    </tr>\n",
              "  </tbody>\n",
              "</table>\n",
              "</div>"
            ],
            "text/plain": [
              "    Ind_ID GENDER Car_Owner Propert_Owner  CHILDREN  Annual_income  \\\n",
              "0  5008827      M         Y             Y         0      180000.00   \n",
              "1  5009744      F         Y             N         0      315000.00   \n",
              "2  5009746      F         Y             N         0      315000.00   \n",
              "3  5009749      F         Y             N         0            NaN   \n",
              "4  5009752      F         Y             N         0      315000.00   \n",
              "\n",
              "            Type_Income         EDUCATION Marital_status       Housing_type  \\\n",
              "0             Pensioner  Higher education        Married  House / apartment   \n",
              "1  Commercial associate  Higher education        Married  House / apartment   \n",
              "2  Commercial associate  Higher education        Married  House / apartment   \n",
              "3  Commercial associate  Higher education        Married  House / apartment   \n",
              "4  Commercial associate  Higher education        Married  House / apartment   \n",
              "\n",
              "   Birthday_count  Employed_days  Mobile_phone  Work_Phone  Phone  EMAIL_ID  \\\n",
              "0       -18772.00         365243             1           0      0         0   \n",
              "1       -13557.00           -586             1           1      1         0   \n",
              "2             NaN           -586             1           1      1         0   \n",
              "3       -13557.00           -586             1           1      1         0   \n",
              "4       -13557.00           -586             1           1      1         0   \n",
              "\n",
              "  Type_Occupation  Family_Members  \n",
              "0             NaN               2  \n",
              "1             NaN               2  \n",
              "2             NaN               2  \n",
              "3             NaN               2  \n",
              "4             NaN               2  "
            ]
          },
          "execution_count": 16,
          "metadata": {},
          "output_type": "execute_result"
        }
      ],
      "source": [
        "credit_card.head()"
      ]
    },
    {
      "cell_type": "code",
      "execution_count": null,
      "id": "e1c4b799",
      "metadata": {
        "id": "e1c4b799",
        "outputId": "458bb4cf-1025-4339-fca3-c116b99f0579"
      },
      "outputs": [
        {
          "data": {
            "text/plain": [
              "Type_Occupation    488\n",
              "Annual_income       23\n",
              "Birthday_count      22\n",
              "GENDER               7\n",
              "Ind_ID               0\n",
              "EMAIL_ID             0\n",
              "Phone                0\n",
              "Work_Phone           0\n",
              "Mobile_phone         0\n",
              "Employed_days        0\n",
              "Housing_type         0\n",
              "Marital_status       0\n",
              "EDUCATION            0\n",
              "Type_Income          0\n",
              "CHILDREN             0\n",
              "Propert_Owner        0\n",
              "Car_Owner            0\n",
              "Family_Members       0\n",
              "dtype: int64"
            ]
          },
          "execution_count": 17,
          "metadata": {},
          "output_type": "execute_result"
        }
      ],
      "source": [
        "credit_card.isnull().sum().sort_values(ascending = False)"
      ]
    },
    {
      "cell_type": "code",
      "execution_count": null,
      "id": "72ee416c",
      "metadata": {
        "id": "72ee416c",
        "outputId": "fc1fb01d-26be-4ed6-a98d-962f8a653f2c"
      },
      "outputs": [
        {
          "data": {
            "text/plain": [
              "Type_Occupation   31.52\n",
              "Annual_income      1.49\n",
              "Birthday_count     1.42\n",
              "GENDER             0.45\n",
              "Ind_ID             0.00\n",
              "EMAIL_ID           0.00\n",
              "Phone              0.00\n",
              "Work_Phone         0.00\n",
              "Mobile_phone       0.00\n",
              "Employed_days      0.00\n",
              "Housing_type       0.00\n",
              "Marital_status     0.00\n",
              "EDUCATION          0.00\n",
              "Type_Income        0.00\n",
              "CHILDREN           0.00\n",
              "Propert_Owner      0.00\n",
              "Car_Owner          0.00\n",
              "Family_Members     0.00\n",
              "dtype: float64"
            ]
          },
          "execution_count": 18,
          "metadata": {},
          "output_type": "execute_result"
        }
      ],
      "source": [
        "round((credit_card.isnull().sum().sort_values(ascending = False)/len(credit_card))* 100,2)"
      ]
    },
    {
      "cell_type": "markdown",
      "id": "4bef4c02",
      "metadata": {
        "id": "4bef4c02"
      },
      "source": [
        "#### Columns Type_Occupation, Annual_income, Birthday_count, GENDER has some null values.\n",
        "#### Type_Occupation has most number of null values with 31.52%"
      ]
    },
    {
      "cell_type": "code",
      "execution_count": null,
      "id": "90bc7978",
      "metadata": {
        "id": "90bc7978"
      },
      "outputs": [],
      "source": []
    },
    {
      "cell_type": "code",
      "execution_count": null,
      "id": "dc4a6b4c",
      "metadata": {
        "id": "dc4a6b4c",
        "outputId": "43fec0f9-56ab-42f9-a29b-245419accbee"
      },
      "outputs": [
        {
          "data": {
            "text/plain": [
              "Laborers                 268\n",
              "Core staff               174\n",
              "Managers                 136\n",
              "Sales staff              122\n",
              "Drivers                   86\n",
              "High skill tech staff     65\n",
              "Medicine staff            50\n",
              "Accountants               44\n",
              "Security staff            25\n",
              "Cleaning staff            22\n",
              "Cooking staff             21\n",
              "Private service staff     17\n",
              "Secretaries                9\n",
              "Low-skill Laborers         9\n",
              "Waiters/barmen staff       5\n",
              "HR staff                   3\n",
              "IT staff                   2\n",
              "Realty agents              2\n",
              "Name: Type_Occupation, dtype: int64"
            ]
          },
          "execution_count": 19,
          "metadata": {},
          "output_type": "execute_result"
        }
      ],
      "source": [
        "credit_card.Type_Occupation.value_counts()"
      ]
    },
    {
      "cell_type": "code",
      "execution_count": null,
      "id": "23079248",
      "metadata": {
        "id": "23079248",
        "outputId": "18888918-c56c-48a4-87ff-e0f2f18372af"
      },
      "outputs": [
        {
          "data": {
            "image/png": "[encoded data removed]",
            "text/plain": [
              "<Figure size 1080x648 with 1 Axes>"
            ]
          },
          "metadata": {
            "needs_background": "light"
          },
          "output_type": "display_data"
        }
      ],
      "source": [
        "plt.figure(figsize=(15,9))\n",
        "sns.countplot(x=\"Type_Occupation\", data = credit_card.sort_values(\"Type_Occupation\", ascending= True))\n",
        "plt.xticks(rotation =45 )\n",
        "plt.show()"
      ]
    },
    {
      "cell_type": "code",
      "execution_count": null,
      "id": "aea2b171",
      "metadata": {
        "id": "aea2b171",
        "outputId": "228a3f33-c457-489a-e46b-95951a94d0ee"
      },
      "outputs": [
        {
          "data": {
            "text/plain": [
              "488"
            ]
          },
          "execution_count": 21,
          "metadata": {},
          "output_type": "execute_result"
        }
      ],
      "source": [
        "# Checking count of null values in Type_Occupation\n",
        "\n",
        "credit_card.Type_Occupation.isnull().sum()"
      ]
    },
    {
      "cell_type": "markdown",
      "id": "b472ed20",
      "metadata": {
        "id": "b472ed20"
      },
      "source": [
        "#### Most of the clients are Labours and majority of clients have not provided thier Occupation"
      ]
    },
    {
      "cell_type": "code",
      "execution_count": null,
      "id": "0f15ed2b",
      "metadata": {
        "id": "0f15ed2b"
      },
      "outputs": [],
      "source": [
        "# As occupation of a client can be an important factor for approving a credit card. Imputing missing values as \"Not Specified\"\n",
        "\n",
        "credit_card.Type_Occupation.fillna(\"Not Specified\", inplace = True)"
      ]
    },
    {
      "cell_type": "code",
      "execution_count": null,
      "id": "f6c9872f",
      "metadata": {
        "id": "f6c9872f",
        "outputId": "585a17ad-3b5e-488f-b627-9c8caffbc9c8"
      },
      "outputs": [
        {
          "data": {
            "text/plain": [
              "Not Specified            488\n",
              "Laborers                 268\n",
              "Core staff               174\n",
              "Managers                 136\n",
              "Sales staff              122\n",
              "Drivers                   86\n",
              "High skill tech staff     65\n",
              "Medicine staff            50\n",
              "Accountants               44\n",
              "Security staff            25\n",
              "Cleaning staff            22\n",
              "Cooking staff             21\n",
              "Private service staff     17\n",
              "Low-skill Laborers         9\n",
              "Secretaries                9\n",
              "Waiters/barmen staff       5\n",
              "HR staff                   3\n",
              "IT staff                   2\n",
              "Realty agents              2\n",
              "Name: Type_Occupation, dtype: int64"
            ]
          },
          "execution_count": 23,
          "metadata": {},
          "output_type": "execute_result"
        }
      ],
      "source": [
        "credit_card.Type_Occupation.value_counts()"
      ]
    },
    {
      "cell_type": "code",
      "execution_count": null,
      "id": "08332111",
      "metadata": {
        "id": "08332111",
        "outputId": "84f466ea-723a-49f2-f600-3af188fe8e5f"
      },
      "outputs": [
        {
          "data": {
            "image/png": "[encoded data removed]",
            "text/plain": [
              "<Figure size 1080x648 with 1 Axes>"
            ]
          },
          "metadata": {
            "needs_background": "light"
          },
          "output_type": "display_data"
        }
      ],
      "source": [
        "plt.figure(figsize=(15,9))\n",
        "credit_card[\"Type_Occupation\"].value_counts().plot.bar()\n",
        "plt.xlabel(\"Type_Occupation\" , fontdict= {\"size\" : 20 })\n",
        "plt.xticks(rotation =45 )\n",
        "plt.show()"
      ]
    },
    {
      "cell_type": "code",
      "execution_count": null,
      "id": "9beb1d64",
      "metadata": {
        "id": "9beb1d64",
        "outputId": "32aa42fe-7e77-4595-96fe-5e66b7bc61e0"
      },
      "outputs": [
        {
          "data": {
            "text/plain": [
              "Annual_income      23\n",
              "Birthday_count     22\n",
              "GENDER              7\n",
              "Ind_ID              0\n",
              "Type_Occupation     0\n",
              "EMAIL_ID            0\n",
              "Phone               0\n",
              "Work_Phone          0\n",
              "Mobile_phone        0\n",
              "Employed_days       0\n",
              "Housing_type        0\n",
              "Marital_status      0\n",
              "EDUCATION           0\n",
              "Type_Income         0\n",
              "CHILDREN            0\n",
              "Propert_Owner       0\n",
              "Car_Owner           0\n",
              "Family_Members      0\n",
              "dtype: int64"
            ]
          },
          "execution_count": 25,
          "metadata": {},
          "output_type": "execute_result"
        }
      ],
      "source": [
        "credit_card.isnull().sum().sort_values(ascending = False)"
      ]
    },
    {
      "cell_type": "code",
      "execution_count": null,
      "id": "6200a1fc",
      "metadata": {
        "id": "6200a1fc",
        "outputId": "83a7687c-6352-4620-9143-9998524bb560"
      },
      "outputs": [
        {
          "data": {
            "text/plain": [
              "count      1525.00\n",
              "mean     191399.33\n",
              "std      113253.00\n",
              "min       33750.00\n",
              "25%      121500.00\n",
              "50%      166500.00\n",
              "75%      225000.00\n",
              "max     1575000.00\n",
              "Name: Annual_income, dtype: float64"
            ]
          },
          "execution_count": 26,
          "metadata": {},
          "output_type": "execute_result"
        }
      ],
      "source": [
        "# Checking Annual_income Column\n",
        "\n",
        "credit_card.Annual_income.describe()"
      ]
    },
    {
      "cell_type": "code",
      "execution_count": null,
      "id": "037af3d5",
      "metadata": {
        "scrolled": false,
        "id": "037af3d5",
        "outputId": "5ca7319b-b323-491b-ff03-f998dcd60b32"
      },
      "outputs": [
        {
          "data": {
            "image/png": "[encoded data removed]",
            "text/plain": [
              "<Figure size 576x360 with 1 Axes>"
            ]
          },
          "metadata": {
            "needs_background": "light"
          },
          "output_type": "display_data"
        }
      ],
      "source": [
        "plt.figure(figsize=(8,5))\n",
        "sns.boxplot(credit_card.Annual_income )\n",
        "plt.show()"
      ]
    },
    {
      "cell_type": "markdown",
      "id": "49b118bd",
      "metadata": {
        "id": "49b118bd"
      },
      "source": [
        "we can see that there are som outliers present in Annual_income Column"
      ]
    },
    {
      "cell_type": "code",
      "execution_count": null,
      "id": "1741ed14",
      "metadata": {
        "id": "1741ed14",
        "outputId": "c817b6b8-3347-4adb-9f4a-e98d42797e3d"
      },
      "outputs": [
        {
          "data": {
            "text/plain": [
              "315000.0"
            ]
          },
          "execution_count": 28,
          "metadata": {},
          "output_type": "execute_result"
        }
      ],
      "source": [
        "credit_card.Annual_income.quantile(0.90)"
      ]
    },
    {
      "cell_type": "code",
      "execution_count": null,
      "id": "388da195",
      "metadata": {
        "id": "388da195"
      },
      "outputs": [],
      "source": [
        "# Removing the outliers which are greater and equal to 97th percentile value.\n",
        "\n",
        "q = credit_card.Annual_income.quantile(0.97)\n",
        "credit_card= credit_card[credit_card.Annual_income < q]"
      ]
    },
    {
      "cell_type": "code",
      "execution_count": null,
      "id": "54044e20",
      "metadata": {
        "id": "54044e20",
        "outputId": "7bf970fc-7a2d-4553-eb58-7779a1f7a01d"
      },
      "outputs": [
        {
          "data": {
            "image/png": "[encoded data removed]",
            "text/plain": [
              "<Figure size 576x360 with 1 Axes>"
            ]
          },
          "metadata": {
            "needs_background": "light"
          },
          "output_type": "display_data"
        }
      ],
      "source": [
        "plt.figure(figsize=(8,5))\n",
        "sns.boxplot(credit_card.Annual_income )\n",
        "plt.show()"
      ]
    },
    {
      "cell_type": "code",
      "execution_count": null,
      "id": "b4917ec6",
      "metadata": {
        "id": "b4917ec6",
        "outputId": "b2c073d0-d003-456f-d78d-70c80d65e813"
      },
      "outputs": [
        {
          "name": "stdout",
          "output_type": "stream",
          "text": [
            "minimum Annual_income = 33750.0\n",
            "Maximum Annual_income = 445500.0\n",
            "median Annual_income = 157500.0\n",
            "mode Annual_income = 135000.0\n"
          ]
        }
      ],
      "source": [
        "print(\"minimum Annual_income =\" , credit_card.Annual_income.min())\n",
        "print(\"Maximum Annual_income =\" , credit_card.Annual_income.max())\n",
        "print(\"median Annual_income =\" , credit_card.Annual_income.median())\n",
        "print(\"mode Annual_income =\" , credit_card.Annual_income.mode()[0] )"
      ]
    },
    {
      "cell_type": "code",
      "execution_count": null,
      "id": "dab977df",
      "metadata": {
        "id": "dab977df",
        "outputId": "94549aed-c425-4fcb-c98f-7e127b90aca7"
      },
      "outputs": [
        {
          "data": {
            "text/plain": [
              "0"
            ]
          },
          "execution_count": 32,
          "metadata": {},
          "output_type": "execute_result"
        }
      ],
      "source": [
        "credit_card.Annual_income.isnull().sum()"
      ]
    },
    {
      "cell_type": "code",
      "execution_count": null,
      "id": "463d9708",
      "metadata": {
        "id": "463d9708"
      },
      "outputs": [],
      "source": []
    },
    {
      "cell_type": "code",
      "execution_count": null,
      "id": "73e34c12",
      "metadata": {
        "id": "73e34c12"
      },
      "outputs": [],
      "source": []
    },
    {
      "cell_type": "code",
      "execution_count": null,
      "id": "22d6bf80",
      "metadata": {
        "id": "22d6bf80",
        "outputId": "9a85600f-3e20-46c2-8ca2-93d3df42436a"
      },
      "outputs": [
        {
          "data": {
            "text/plain": [
              "Birthday_count     21\n",
              "GENDER              5\n",
              "Ind_ID              0\n",
              "Type_Occupation     0\n",
              "EMAIL_ID            0\n",
              "Phone               0\n",
              "Work_Phone          0\n",
              "Mobile_phone        0\n",
              "Employed_days       0\n",
              "Housing_type        0\n",
              "Marital_status      0\n",
              "EDUCATION           0\n",
              "Type_Income         0\n",
              "Annual_income       0\n",
              "CHILDREN            0\n",
              "Propert_Owner       0\n",
              "Car_Owner           0\n",
              "Family_Members      0\n",
              "dtype: int64"
            ]
          },
          "execution_count": 33,
          "metadata": {},
          "output_type": "execute_result"
        }
      ],
      "source": [
        "credit_card.isnull().sum().sort_values(ascending = False)"
      ]
    },
    {
      "cell_type": "code",
      "execution_count": null,
      "id": "7846432e",
      "metadata": {
        "id": "7846432e"
      },
      "outputs": [],
      "source": [
        "# Checking Birthday_count Column\n"
      ]
    },
    {
      "cell_type": "code",
      "execution_count": null,
      "id": "87bb0e05",
      "metadata": {
        "id": "87bb0e05",
        "outputId": "0acdb05d-56e6-4eeb-a3b4-60f426cef9ea"
      },
      "outputs": [
        {
          "name": "stdout",
          "output_type": "stream",
          "text": [
            "minimum Birthday_count = -24946.0\n",
            "Maximum Birthday_count = -7705.0\n",
            "median Birthday_count = -15643.0\n",
            "mode Birthday_count = -21363.0\n"
          ]
        }
      ],
      "source": [
        "print(\"minimum Birthday_count =\" , credit_card.Birthday_count.min())\n",
        "print(\"Maximum Birthday_count =\" , credit_card.Birthday_count.max())\n",
        "print(\"median Birthday_count =\" , credit_card.Birthday_count.median())\n",
        "print(\"mode Birthday_count =\" , credit_card.Birthday_count.mode()[0] )"
      ]
    },
    {
      "cell_type": "code",
      "execution_count": null,
      "id": "48a4f772",
      "metadata": {
        "id": "48a4f772"
      },
      "outputs": [],
      "source": [
        "# Imputing Null Values in Birthday_count by Median\n",
        "\n",
        "credit_card.Birthday_count.fillna(credit_card.Birthday_count.median() ,inplace = True )"
      ]
    },
    {
      "cell_type": "code",
      "execution_count": null,
      "id": "c8c3afaa",
      "metadata": {
        "id": "c8c3afaa",
        "outputId": "ba8e4e20-ff42-40bb-d821-430d882a1b1c"
      },
      "outputs": [
        {
          "data": {
            "text/plain": [
              "0"
            ]
          },
          "execution_count": 37,
          "metadata": {},
          "output_type": "execute_result"
        }
      ],
      "source": [
        "credit_card.Birthday_count.isnull().sum()"
      ]
    },
    {
      "cell_type": "code",
      "execution_count": null,
      "id": "862130e8",
      "metadata": {
        "scrolled": true,
        "id": "862130e8",
        "outputId": "f3ec169b-c9b9-4e67-db76-dcc27c982ff9"
      },
      "outputs": [
        {
          "data": {
            "image/png": "[encoded data removed]",
            "text/plain": [
              "<Figure size 576x360 with 1 Axes>"
            ]
          },
          "metadata": {
            "needs_background": "light"
          },
          "output_type": "display_data"
        }
      ],
      "source": [
        "plt.figure(figsize=(8,5))\n",
        "sns.boxplot(credit_card.Birthday_count )\n",
        "plt.show()"
      ]
    },
    {
      "cell_type": "markdown",
      "id": "1b2bc552",
      "metadata": {
        "id": "1b2bc552"
      },
      "source": [
        "Column Birthday_count has no ouliers "
      ]
    },
    {
      "cell_type": "code",
      "execution_count": null,
      "id": "15753c54",
      "metadata": {
        "scrolled": true,
        "id": "15753c54",
        "outputId": "111f14cc-2251-4e8f-94a3-545b7ef5999e"
      },
      "outputs": [
        {
          "data": {
            "text/plain": [
              "GENDER             5\n",
              "Ind_ID             0\n",
              "Type_Occupation    0\n",
              "EMAIL_ID           0\n",
              "Phone              0\n",
              "Work_Phone         0\n",
              "Mobile_phone       0\n",
              "Employed_days      0\n",
              "Birthday_count     0\n",
              "Housing_type       0\n",
              "Marital_status     0\n",
              "EDUCATION          0\n",
              "Type_Income        0\n",
              "Annual_income      0\n",
              "CHILDREN           0\n",
              "Propert_Owner      0\n",
              "Car_Owner          0\n",
              "Family_Members     0\n",
              "dtype: int64"
            ]
          },
          "execution_count": 39,
          "metadata": {},
          "output_type": "execute_result"
        }
      ],
      "source": [
        "credit_card.isnull().sum().sort_values(ascending = False)"
      ]
    },
    {
      "cell_type": "code",
      "execution_count": null,
      "id": "51fe17f2",
      "metadata": {
        "id": "51fe17f2",
        "outputId": "31b6e99b-eeef-493a-c5ec-b88907714a3f"
      },
      "outputs": [
        {
          "data": {
            "text/plain": [
              "F    943\n",
              "M    525\n",
              "Name: GENDER, dtype: int64"
            ]
          },
          "execution_count": 40,
          "metadata": {},
          "output_type": "execute_result"
        }
      ],
      "source": [
        "# Checking GENDER column\n",
        "\n",
        "credit_card.GENDER.value_counts()"
      ]
    },
    {
      "cell_type": "markdown",
      "id": "f1905700",
      "metadata": {
        "id": "f1905700"
      },
      "source": [
        "#### Majority of clients are females"
      ]
    },
    {
      "cell_type": "code",
      "execution_count": null,
      "id": "fa9864b4",
      "metadata": {
        "id": "fa9864b4"
      },
      "outputs": [],
      "source": [
        "#  Imputing Null Values in GENDER by \"F\"\n",
        "\n",
        "credit_card.GENDER.fillna(\"F\",inplace = True)"
      ]
    },
    {
      "cell_type": "code",
      "execution_count": null,
      "id": "42fb2797",
      "metadata": {
        "id": "42fb2797",
        "outputId": "955088d3-8cc9-434d-8bbb-960bcdc82cdf"
      },
      "outputs": [
        {
          "data": {
            "text/plain": [
              "0"
            ]
          },
          "execution_count": 42,
          "metadata": {},
          "output_type": "execute_result"
        }
      ],
      "source": [
        "credit_card.GENDER.isnull().sum()"
      ]
    },
    {
      "cell_type": "code",
      "execution_count": null,
      "id": "d3aef529",
      "metadata": {
        "scrolled": true,
        "id": "d3aef529",
        "outputId": "ea6eaafa-6491-4b80-860d-b927e6907ac7"
      },
      "outputs": [
        {
          "data": {
            "text/plain": [
              "Ind_ID             0\n",
              "GENDER             0\n",
              "Type_Occupation    0\n",
              "EMAIL_ID           0\n",
              "Phone              0\n",
              "Work_Phone         0\n",
              "Mobile_phone       0\n",
              "Employed_days      0\n",
              "Birthday_count     0\n",
              "Housing_type       0\n",
              "Marital_status     0\n",
              "EDUCATION          0\n",
              "Type_Income        0\n",
              "Annual_income      0\n",
              "CHILDREN           0\n",
              "Propert_Owner      0\n",
              "Car_Owner          0\n",
              "Family_Members     0\n",
              "dtype: int64"
            ]
          },
          "execution_count": 43,
          "metadata": {},
          "output_type": "execute_result"
        }
      ],
      "source": [
        "credit_card.isnull().sum().sort_values(ascending = False)"
      ]
    },
    {
      "cell_type": "code",
      "execution_count": null,
      "id": "fd0c0896",
      "metadata": {
        "scrolled": true,
        "id": "fd0c0896",
        "outputId": "a068b747-ab52-4e35-d414-ad7a93112773"
      },
      "outputs": [
        {
          "data": {
            "text/plain": [
              "F    948\n",
              "M    525\n",
              "Name: GENDER, dtype: int64"
            ]
          },
          "execution_count": 44,
          "metadata": {},
          "output_type": "execute_result"
        }
      ],
      "source": [
        "credit_card.GENDER.value_counts()"
      ]
    },
    {
      "cell_type": "code",
      "execution_count": null,
      "id": "71ee6a66",
      "metadata": {
        "id": "71ee6a66",
        "outputId": "ce16df62-c0fa-46c8-f259-4cc16834156b"
      },
      "outputs": [
        {
          "data": {
            "text/plain": [
              "0    1027\n",
              "1     446\n",
              "Name: Phone, dtype: int64"
            ]
          },
          "execution_count": 45,
          "metadata": {},
          "output_type": "execute_result"
        }
      ],
      "source": [
        "# Checking column Phone\n",
        "\n",
        "credit_card.Phone.value_counts()"
      ]
    },
    {
      "cell_type": "code",
      "execution_count": null,
      "id": "4fc4c92f",
      "metadata": {
        "id": "4fc4c92f",
        "outputId": "9c44f813-b9f1-4aa8-cc2f-f7ffd1abe9f8"
      },
      "outputs": [
        {
          "data": {
            "text/plain": [
              "0    1164\n",
              "1     309\n",
              "Name: Work_Phone, dtype: int64"
            ]
          },
          "execution_count": 46,
          "metadata": {},
          "output_type": "execute_result"
        }
      ],
      "source": [
        "# Checking column Work_Phone\n",
        "\n",
        "credit_card.Work_Phone.value_counts()"
      ]
    },
    {
      "cell_type": "code",
      "execution_count": null,
      "id": "27286a4c",
      "metadata": {
        "scrolled": true,
        "id": "27286a4c",
        "outputId": "571fed7b-1af1-43c6-e093-26f694ef3130"
      },
      "outputs": [
        {
          "data": {
            "image/png": "[encoded data removed]",
            "text/plain": [
              "<Figure size 576x360 with 1 Axes>"
            ]
          },
          "metadata": {
            "needs_background": "light"
          },
          "output_type": "display_data"
        }
      ],
      "source": [
        "# Checking column Employed_days\n",
        "\n",
        "plt.figure(figsize=(8,5))\n",
        "sns.boxplot(credit_card.Employed_days)\n",
        "plt.show()"
      ]
    },
    {
      "cell_type": "code",
      "execution_count": null,
      "id": "105bb8e5",
      "metadata": {
        "scrolled": true,
        "id": "105bb8e5",
        "outputId": "29f81c4b-3752-44ba-82c8-95d986a3c8e9"
      },
      "outputs": [
        {
          "data": {
            "text/plain": [
              "-625         1\n",
              "-1023        1\n",
              "-2129        1\n",
              "-575         1\n",
              "-3262        1\n",
              "          ... \n",
              "-586         5\n",
              "-1678        5\n",
              "-622         5\n",
              "-3420        5\n",
              " 365243    252\n",
              "Name: Employed_days, Length: 918, dtype: int64"
            ]
          },
          "execution_count": 48,
          "metadata": {},
          "output_type": "execute_result"
        }
      ],
      "source": [
        "credit_card.Employed_days.value_counts().sort_values(ascending = True)"
      ]
    },
    {
      "cell_type": "code",
      "execution_count": null,
      "id": "a2ad5081",
      "metadata": {
        "scrolled": true,
        "id": "a2ad5081",
        "outputId": "9319eff3-1f7a-4964-83db-84ae7d72b3f0"
      },
      "outputs": [
        {
          "data": {
            "text/plain": [
              "False    1221\n",
              "True      252\n",
              "Name: Employed_days, dtype: int64"
            ]
          },
          "execution_count": 49,
          "metadata": {},
          "output_type": "execute_result"
        }
      ],
      "source": [
        "(credit_card.Employed_days >0).value_counts()"
      ]
    },
    {
      "cell_type": "code",
      "execution_count": null,
      "id": "d11e7db7",
      "metadata": {
        "id": "d11e7db7"
      },
      "outputs": [],
      "source": [
        "# As mentioned in document, if 'Employed_days' is positive no, it means person currently unemployed, hence replacing it with 0\n",
        "\n",
        "credit_card['Employed_days'].replace(365243, 0, inplace=True)"
      ]
    },
    {
      "cell_type": "code",
      "execution_count": null,
      "id": "c51f1bbb",
      "metadata": {
        "id": "c51f1bbb"
      },
      "outputs": [],
      "source": []
    },
    {
      "cell_type": "code",
      "execution_count": null,
      "id": "3706905d",
      "metadata": {
        "scrolled": true,
        "id": "3706905d",
        "outputId": "caddbf3a-d481-4269-8b13-8c1447d2ab98"
      },
      "outputs": [
        {
          "data": {
            "image/png": "[encoded data removed]",
            "text/plain": [
              "<Figure size 576x360 with 1 Axes>"
            ]
          },
          "metadata": {
            "needs_background": "light"
          },
          "output_type": "display_data"
        }
      ],
      "source": [
        "# Checking column Birthday_count\n",
        "\n",
        "plt.figure(figsize=(8,5))\n",
        "sns.boxplot(credit_card.Birthday_count)\n",
        "plt.show()"
      ]
    },
    {
      "cell_type": "code",
      "execution_count": null,
      "id": "e4864603",
      "metadata": {
        "id": "e4864603",
        "outputId": "2cde5238-ba87-450b-f45e-2e95a0d7b300"
      },
      "outputs": [
        {
          "data": {
            "text/plain": [
              "House / apartment      1313\n",
              "With parents             77\n",
              "Municipal apartment      51\n",
              "Rented apartment         20\n",
              "Office apartment          7\n",
              "Co-op apartment           5\n",
              "Name: Housing_type, dtype: int64"
            ]
          },
          "execution_count": 52,
          "metadata": {},
          "output_type": "execute_result"
        }
      ],
      "source": [
        "# Checking Housing_type\n",
        "\n",
        "credit_card.Housing_type.value_counts()"
      ]
    },
    {
      "cell_type": "code",
      "execution_count": null,
      "id": "eae9e1cb",
      "metadata": {
        "scrolled": true,
        "id": "eae9e1cb",
        "outputId": "f286147f-3be4-4287-de68-d4120404c7f2"
      },
      "outputs": [
        {
          "data": {
            "text/plain": [
              "Married                 1002\n",
              "Single / not married     207\n",
              "Civil marriage            99\n",
              "Separated                 91\n",
              "Widow                     74\n",
              "Name: Marital_status, dtype: int64"
            ]
          },
          "execution_count": 53,
          "metadata": {},
          "output_type": "execute_result"
        }
      ],
      "source": [
        "# Checking Marital_status\n",
        "\n",
        "credit_card.Marital_status.value_counts()"
      ]
    },
    {
      "cell_type": "code",
      "execution_count": null,
      "id": "27fbe388",
      "metadata": {
        "scrolled": true,
        "id": "27fbe388",
        "outputId": "25fa92fc-922a-42ea-bd23-3e71ae74b188"
      },
      "outputs": [
        {
          "data": {
            "text/plain": [
              "Secondary / secondary special    999\n",
              "Higher education                 385\n",
              "Incomplete higher                 66\n",
              "Lower secondary                   21\n",
              "Academic degree                    2\n",
              "Name: EDUCATION, dtype: int64"
            ]
          },
          "execution_count": 54,
          "metadata": {},
          "output_type": "execute_result"
        }
      ],
      "source": [
        "# Checking EDUCATION \n",
        "\n",
        "credit_card.EDUCATION.value_counts()"
      ]
    },
    {
      "cell_type": "code",
      "execution_count": null,
      "id": "d48ad108",
      "metadata": {
        "id": "d48ad108",
        "outputId": "392e22f7-fc66-49a5-df29-8fe66f2c0d00"
      },
      "outputs": [
        {
          "data": {
            "text/plain": [
              "Working                 774\n",
              "Commercial associate    330\n",
              "Pensioner               257\n",
              "State servant           112\n",
              "Name: Type_Income, dtype: int64"
            ]
          },
          "execution_count": 55,
          "metadata": {},
          "output_type": "execute_result"
        }
      ],
      "source": [
        "# Checking Type_Income \n",
        "\n",
        "credit_card.Type_Income.value_counts()"
      ]
    },
    {
      "cell_type": "code",
      "execution_count": null,
      "id": "172a6667",
      "metadata": {
        "scrolled": true,
        "id": "172a6667",
        "outputId": "e8e9c899-1acc-4ea6-a04d-6d4c6e1646dd"
      },
      "outputs": [
        {
          "data": {
            "image/png": "[encoded data removed]",
            "text/plain": [
              "<Figure size 576x360 with 1 Axes>"
            ]
          },
          "metadata": {
            "needs_background": "light"
          },
          "output_type": "display_data"
        }
      ],
      "source": [
        "# Checking Annual_income \n",
        "plt.figure(figsize=(8,5))\n",
        "sns.boxplot(credit_card.Annual_income)\n",
        "plt.show()"
      ]
    },
    {
      "cell_type": "code",
      "execution_count": null,
      "id": "b1b4d4d8",
      "metadata": {
        "id": "b1b4d4d8",
        "outputId": "8ca770ec-1fc0-4471-b6cb-3a573161b346"
      },
      "outputs": [
        {
          "data": {
            "text/plain": [
              "0     1051\n",
              "1      279\n",
              "2      125\n",
              "3       16\n",
              "4        1\n",
              "14       1\n",
              "Name: CHILDREN, dtype: int64"
            ]
          },
          "execution_count": 57,
          "metadata": {},
          "output_type": "execute_result"
        }
      ],
      "source": [
        "# Checking CHILDREN  \n",
        "\n",
        "credit_card.CHILDREN .value_counts()"
      ]
    },
    {
      "cell_type": "code",
      "execution_count": null,
      "id": "f26441bb",
      "metadata": {
        "id": "f26441bb",
        "outputId": "8e039da9-ae73-4b96-a48b-b36baf6b8c14"
      },
      "outputs": [
        {
          "data": {
            "text/plain": [
              "Y    951\n",
              "N    522\n",
              "Name: Propert_Owner, dtype: int64"
            ]
          },
          "execution_count": 58,
          "metadata": {},
          "output_type": "execute_result"
        }
      ],
      "source": [
        "# Checking Propert_Owner  \n",
        "\n",
        "credit_card.Propert_Owner .value_counts()"
      ]
    },
    {
      "cell_type": "code",
      "execution_count": null,
      "id": "1b9493b4",
      "metadata": {
        "id": "1b9493b4",
        "outputId": "3e40caed-dba0-473c-e349-f707a1ae9772"
      },
      "outputs": [
        {
          "data": {
            "text/plain": [
              "N    898\n",
              "Y    575\n",
              "Name: Car_Owner, dtype: int64"
            ]
          },
          "execution_count": 59,
          "metadata": {},
          "output_type": "execute_result"
        }
      ],
      "source": [
        "# Checking Car_Owner  \n",
        "\n",
        "credit_card.Car_Owner .value_counts()"
      ]
    },
    {
      "cell_type": "code",
      "execution_count": null,
      "id": "9f334e4b",
      "metadata": {
        "scrolled": true,
        "id": "9f334e4b",
        "outputId": "54cbc51c-0bd5-44c9-80b9-dd07393cb877"
      },
      "outputs": [
        {
          "data": {
            "text/plain": [
              "2     773\n",
              "1     316\n",
              "3     247\n",
              "4     120\n",
              "5      15\n",
              "6       1\n",
              "15      1\n",
              "Name: Family_Members, dtype: int64"
            ]
          },
          "execution_count": 60,
          "metadata": {},
          "output_type": "execute_result"
        }
      ],
      "source": [
        "# Checking Family_Members  \n",
        "\n",
        "credit_card.Family_Members .value_counts()"
      ]
    },
    {
      "cell_type": "code",
      "execution_count": null,
      "id": "67f7393d",
      "metadata": {
        "id": "67f7393d"
      },
      "outputs": [],
      "source": []
    },
    {
      "cell_type": "markdown",
      "id": "ae5d3013",
      "metadata": {
        "id": "ae5d3013"
      },
      "source": [
        "### Cleaning credit_card_label data"
      ]
    },
    {
      "cell_type": "code",
      "execution_count": null,
      "id": "72e85a96",
      "metadata": {
        "id": "72e85a96",
        "outputId": "e8c27e72-63c6-47ec-e8b5-29147b3c86fb"
      },
      "outputs": [
        {
          "data": {
            "text/plain": [
              "Ind_ID    0\n",
              "label     0\n",
              "dtype: int64"
            ]
          },
          "execution_count": 61,
          "metadata": {},
          "output_type": "execute_result"
        }
      ],
      "source": [
        "credit_card_label.isnull().sum()"
      ]
    },
    {
      "cell_type": "markdown",
      "id": "30149d8b",
      "metadata": {
        "id": "30149d8b"
      },
      "source": [
        "#### credit_card_label has no Null values"
      ]
    },
    {
      "cell_type": "code",
      "execution_count": null,
      "id": "aa274f53",
      "metadata": {
        "id": "aa274f53"
      },
      "outputs": [],
      "source": []
    },
    {
      "cell_type": "markdown",
      "id": "1b58c213",
      "metadata": {
        "id": "1b58c213"
      },
      "source": [
        "# Merging  credit_card and credit_card_label data"
      ]
    },
    {
      "cell_type": "code",
      "execution_count": null,
      "id": "7d5ed88c",
      "metadata": {
        "id": "7d5ed88c",
        "outputId": "e79d7bd8-e013-4712-ce0a-b92374f748fa"
      },
      "outputs": [
        {
          "data": {
            "text/html": [
              "<div>\n",
              "<style scoped>\n",
              "    .dataframe tbody tr th:only-of-type {\n",
              "        vertical-align: middle;\n",
              "    }\n",
              "\n",
              "    .dataframe tbody tr th {\n",
              "        vertical-align: top;\n",
              "    }\n",
              "\n",
              "    .dataframe thead th {\n",
              "        text-align: right;\n",
              "    }\n",
              "</style>\n",
              "<table border=\"1\" class=\"dataframe\">\n",
              "  <thead>\n",
              "    <tr style=\"text-align: right;\">\n",
              "      <th></th>\n",
              "      <th>Ind_ID</th>\n",
              "      <th>GENDER</th>\n",
              "      <th>Car_Owner</th>\n",
              "      <th>Propert_Owner</th>\n",
              "      <th>CHILDREN</th>\n",
              "      <th>Annual_income</th>\n",
              "      <th>Type_Income</th>\n",
              "      <th>EDUCATION</th>\n",
              "      <th>Marital_status</th>\n",
              "      <th>Housing_type</th>\n",
              "      <th>Birthday_count</th>\n",
              "      <th>Employed_days</th>\n",
              "      <th>Mobile_phone</th>\n",
              "      <th>Work_Phone</th>\n",
              "      <th>Phone</th>\n",
              "      <th>EMAIL_ID</th>\n",
              "      <th>Type_Occupation</th>\n",
              "      <th>Family_Members</th>\n",
              "      <th>label</th>\n",
              "    </tr>\n",
              "  </thead>\n",
              "  <tbody>\n",
              "    <tr>\n",
              "      <th>0</th>\n",
              "      <td>5008827</td>\n",
              "      <td>M</td>\n",
              "      <td>Y</td>\n",
              "      <td>Y</td>\n",
              "      <td>0</td>\n",
              "      <td>180000.00</td>\n",
              "      <td>Pensioner</td>\n",
              "      <td>Higher education</td>\n",
              "      <td>Married</td>\n",
              "      <td>House / apartment</td>\n",
              "      <td>-18772.00</td>\n",
              "      <td>0</td>\n",
              "      <td>1</td>\n",
              "      <td>0</td>\n",
              "      <td>0</td>\n",
              "      <td>0</td>\n",
              "      <td>Not Specified</td>\n",
              "      <td>2</td>\n",
              "      <td>1</td>\n",
              "    </tr>\n",
              "    <tr>\n",
              "      <th>1</th>\n",
              "      <td>5009744</td>\n",
              "      <td>F</td>\n",
              "      <td>Y</td>\n",
              "      <td>N</td>\n",
              "      <td>0</td>\n",
              "      <td>315000.00</td>\n",
              "      <td>Commercial associate</td>\n",
              "      <td>Higher education</td>\n",
              "      <td>Married</td>\n",
              "      <td>House / apartment</td>\n",
              "      <td>-13557.00</td>\n",
              "      <td>-586</td>\n",
              "      <td>1</td>\n",
              "      <td>1</td>\n",
              "      <td>1</td>\n",
              "      <td>0</td>\n",
              "      <td>Not Specified</td>\n",
              "      <td>2</td>\n",
              "      <td>1</td>\n",
              "    </tr>\n",
              "    <tr>\n",
              "      <th>2</th>\n",
              "      <td>5009746</td>\n",
              "      <td>F</td>\n",
              "      <td>Y</td>\n",
              "      <td>N</td>\n",
              "      <td>0</td>\n",
              "      <td>315000.00</td>\n",
              "      <td>Commercial associate</td>\n",
              "      <td>Higher education</td>\n",
              "      <td>Married</td>\n",
              "      <td>House / apartment</td>\n",
              "      <td>-15643.00</td>\n",
              "      <td>-586</td>\n",
              "      <td>1</td>\n",
              "      <td>1</td>\n",
              "      <td>1</td>\n",
              "      <td>0</td>\n",
              "      <td>Not Specified</td>\n",
              "      <td>2</td>\n",
              "      <td>1</td>\n",
              "    </tr>\n",
              "    <tr>\n",
              "      <th>3</th>\n",
              "      <td>5009752</td>\n",
              "      <td>F</td>\n",
              "      <td>Y</td>\n",
              "      <td>N</td>\n",
              "      <td>0</td>\n",
              "      <td>315000.00</td>\n",
              "      <td>Commercial associate</td>\n",
              "      <td>Higher education</td>\n",
              "      <td>Married</td>\n",
              "      <td>House / apartment</td>\n",
              "      <td>-13557.00</td>\n",
              "      <td>-586</td>\n",
              "      <td>1</td>\n",
              "      <td>1</td>\n",
              "      <td>1</td>\n",
              "      <td>0</td>\n",
              "      <td>Not Specified</td>\n",
              "      <td>2</td>\n",
              "      <td>1</td>\n",
              "    </tr>\n",
              "    <tr>\n",
              "      <th>4</th>\n",
              "      <td>5009753</td>\n",
              "      <td>F</td>\n",
              "      <td>Y</td>\n",
              "      <td>N</td>\n",
              "      <td>0</td>\n",
              "      <td>315000.00</td>\n",
              "      <td>Pensioner</td>\n",
              "      <td>Higher education</td>\n",
              "      <td>Married</td>\n",
              "      <td>House / apartment</td>\n",
              "      <td>-13557.00</td>\n",
              "      <td>-586</td>\n",
              "      <td>1</td>\n",
              "      <td>1</td>\n",
              "      <td>1</td>\n",
              "      <td>0</td>\n",
              "      <td>Not Specified</td>\n",
              "      <td>2</td>\n",
              "      <td>1</td>\n",
              "    </tr>\n",
              "  </tbody>\n",
              "</table>\n",
              "</div>"
            ],
            "text/plain": [
              "    Ind_ID GENDER Car_Owner Propert_Owner  CHILDREN  Annual_income  \\\n",
              "0  5008827      M         Y             Y         0      180000.00   \n",
              "1  5009744      F         Y             N         0      315000.00   \n",
              "2  5009746      F         Y             N         0      315000.00   \n",
              "3  5009752      F         Y             N         0      315000.00   \n",
              "4  5009753      F         Y             N         0      315000.00   \n",
              "\n",
              "            Type_Income         EDUCATION Marital_status       Housing_type  \\\n",
              "0             Pensioner  Higher education        Married  House / apartment   \n",
              "1  Commercial associate  Higher education        Married  House / apartment   \n",
              "2  Commercial associate  Higher education        Married  House / apartment   \n",
              "3  Commercial associate  Higher education        Married  House / apartment   \n",
              "4             Pensioner  Higher education        Married  House / apartment   \n",
              "\n",
              "   Birthday_count  Employed_days  Mobile_phone  Work_Phone  Phone  EMAIL_ID  \\\n",
              "0       -18772.00              0             1           0      0         0   \n",
              "1       -13557.00           -586             1           1      1         0   \n",
              "2       -15643.00           -586             1           1      1         0   \n",
              "3       -13557.00           -586             1           1      1         0   \n",
              "4       -13557.00           -586             1           1      1         0   \n",
              "\n",
              "  Type_Occupation  Family_Members  label  \n",
              "0   Not Specified               2      1  \n",
              "1   Not Specified               2      1  \n",
              "2   Not Specified               2      1  \n",
              "3   Not Specified               2      1  \n",
              "4   Not Specified               2      1  "
            ]
          },
          "execution_count": 62,
          "metadata": {},
          "output_type": "execute_result"
        }
      ],
      "source": [
        "merged_data = credit_card.merge(credit_card_label ,on = \"Ind_ID\" , how = \"inner\")\n",
        "merged_data.head()"
      ]
    },
    {
      "cell_type": "code",
      "execution_count": null,
      "id": "c48e52da",
      "metadata": {
        "id": "c48e52da",
        "outputId": "30cc9dfa-2559-49f7-ec32-1aea0732c0d9"
      },
      "outputs": [
        {
          "data": {
            "text/plain": [
              "(1473, 19)"
            ]
          },
          "execution_count": 63,
          "metadata": {},
          "output_type": "execute_result"
        }
      ],
      "source": [
        "merged_data.shape"
      ]
    },
    {
      "cell_type": "code",
      "execution_count": null,
      "id": "20403d6a",
      "metadata": {
        "id": "20403d6a",
        "outputId": "ecd59430-5825-4f93-c693-22f673d0946c"
      },
      "outputs": [
        {
          "name": "stdout",
          "output_type": "stream",
          "text": [
            "<class 'pandas.core.frame.DataFrame'>\n",
            "Int64Index: 1473 entries, 0 to 1472\n",
            "Data columns (total 19 columns):\n",
            " #   Column           Non-Null Count  Dtype  \n",
            "---  ------           --------------  -----  \n",
            " 0   Ind_ID           1473 non-null   int64  \n",
            " 1   GENDER           1473 non-null   object \n",
            " 2   Car_Owner        1473 non-null   object \n",
            " 3   Propert_Owner    1473 non-null   object \n",
            " 4   CHILDREN         1473 non-null   int64  \n",
            " 5   Annual_income    1473 non-null   float64\n",
            " 6   Type_Income      1473 non-null   object \n",
            " 7   EDUCATION        1473 non-null   object \n",
            " 8   Marital_status   1473 non-null   object \n",
            " 9   Housing_type     1473 non-null   object \n",
            " 10  Birthday_count   1473 non-null   float64\n",
            " 11  Employed_days    1473 non-null   int64  \n",
            " 12  Mobile_phone     1473 non-null   int64  \n",
            " 13  Work_Phone       1473 non-null   int64  \n",
            " 14  Phone            1473 non-null   int64  \n",
            " 15  EMAIL_ID         1473 non-null   int64  \n",
            " 16  Type_Occupation  1473 non-null   object \n",
            " 17  Family_Members   1473 non-null   int64  \n",
            " 18  label            1473 non-null   int64  \n",
            "dtypes: float64(2), int64(9), object(8)\n",
            "memory usage: 230.2+ KB\n"
          ]
        }
      ],
      "source": [
        "merged_data.info()"
      ]
    },
    {
      "cell_type": "code",
      "execution_count": null,
      "id": "15db5b9f",
      "metadata": {
        "scrolled": true,
        "id": "15db5b9f",
        "outputId": "4d167c0c-f53e-4ab8-fec9-ce66e521ba22"
      },
      "outputs": [
        {
          "data": {
            "text/html": [
              "<div>\n",
              "<style scoped>\n",
              "    .dataframe tbody tr th:only-of-type {\n",
              "        vertical-align: middle;\n",
              "    }\n",
              "\n",
              "    .dataframe tbody tr th {\n",
              "        vertical-align: top;\n",
              "    }\n",
              "\n",
              "    .dataframe thead th {\n",
              "        text-align: right;\n",
              "    }\n",
              "</style>\n",
              "<table border=\"1\" class=\"dataframe\">\n",
              "  <thead>\n",
              "    <tr style=\"text-align: right;\">\n",
              "      <th></th>\n",
              "      <th>Ind_ID</th>\n",
              "      <th>CHILDREN</th>\n",
              "      <th>Annual_income</th>\n",
              "      <th>Birthday_count</th>\n",
              "      <th>Employed_days</th>\n",
              "      <th>Mobile_phone</th>\n",
              "      <th>Work_Phone</th>\n",
              "      <th>Phone</th>\n",
              "      <th>EMAIL_ID</th>\n",
              "      <th>Family_Members</th>\n",
              "      <th>label</th>\n",
              "    </tr>\n",
              "  </thead>\n",
              "  <tbody>\n",
              "    <tr>\n",
              "      <th>count</th>\n",
              "      <td>1473.00</td>\n",
              "      <td>1473.00</td>\n",
              "      <td>1473.00</td>\n",
              "      <td>1473.00</td>\n",
              "      <td>1473.00</td>\n",
              "      <td>1473.00</td>\n",
              "      <td>1473.00</td>\n",
              "      <td>1473.00</td>\n",
              "      <td>1473.00</td>\n",
              "      <td>1473.00</td>\n",
              "      <td>1473.00</td>\n",
              "    </tr>\n",
              "    <tr>\n",
              "      <th>mean</th>\n",
              "      <td>5078827.32</td>\n",
              "      <td>0.40</td>\n",
              "      <td>177889.32</td>\n",
              "      <td>-16054.34</td>\n",
              "      <td>-2245.69</td>\n",
              "      <td>1.00</td>\n",
              "      <td>0.21</td>\n",
              "      <td>0.30</td>\n",
              "      <td>0.09</td>\n",
              "      <td>2.16</td>\n",
              "      <td>0.10</td>\n",
              "    </tr>\n",
              "    <tr>\n",
              "      <th>std</th>\n",
              "      <td>41437.27</td>\n",
              "      <td>0.78</td>\n",
              "      <td>76598.96</td>\n",
              "      <td>4206.41</td>\n",
              "      <td>2435.23</td>\n",
              "      <td>0.00</td>\n",
              "      <td>0.41</td>\n",
              "      <td>0.46</td>\n",
              "      <td>0.28</td>\n",
              "      <td>0.95</td>\n",
              "      <td>0.30</td>\n",
              "    </tr>\n",
              "    <tr>\n",
              "      <th>min</th>\n",
              "      <td>5008827.00</td>\n",
              "      <td>0.00</td>\n",
              "      <td>33750.00</td>\n",
              "      <td>-24946.00</td>\n",
              "      <td>-14887.00</td>\n",
              "      <td>1.00</td>\n",
              "      <td>0.00</td>\n",
              "      <td>0.00</td>\n",
              "      <td>0.00</td>\n",
              "      <td>1.00</td>\n",
              "      <td>0.00</td>\n",
              "    </tr>\n",
              "    <tr>\n",
              "      <th>25%</th>\n",
              "      <td>5045255.00</td>\n",
              "      <td>0.00</td>\n",
              "      <td>117000.00</td>\n",
              "      <td>-19565.00</td>\n",
              "      <td>-3202.00</td>\n",
              "      <td>1.00</td>\n",
              "      <td>0.00</td>\n",
              "      <td>0.00</td>\n",
              "      <td>0.00</td>\n",
              "      <td>2.00</td>\n",
              "      <td>0.00</td>\n",
              "    </tr>\n",
              "    <tr>\n",
              "      <th>50%</th>\n",
              "      <td>5074705.00</td>\n",
              "      <td>0.00</td>\n",
              "      <td>157500.00</td>\n",
              "      <td>-15643.00</td>\n",
              "      <td>-1587.00</td>\n",
              "      <td>1.00</td>\n",
              "      <td>0.00</td>\n",
              "      <td>0.00</td>\n",
              "      <td>0.00</td>\n",
              "      <td>2.00</td>\n",
              "      <td>0.00</td>\n",
              "    </tr>\n",
              "    <tr>\n",
              "      <th>75%</th>\n",
              "      <td>5115611.00</td>\n",
              "      <td>1.00</td>\n",
              "      <td>225000.00</td>\n",
              "      <td>-12518.00</td>\n",
              "      <td>-424.00</td>\n",
              "      <td>1.00</td>\n",
              "      <td>0.00</td>\n",
              "      <td>1.00</td>\n",
              "      <td>0.00</td>\n",
              "      <td>3.00</td>\n",
              "      <td>0.00</td>\n",
              "    </tr>\n",
              "    <tr>\n",
              "      <th>max</th>\n",
              "      <td>5150412.00</td>\n",
              "      <td>14.00</td>\n",
              "      <td>445500.00</td>\n",
              "      <td>-7705.00</td>\n",
              "      <td>0.00</td>\n",
              "      <td>1.00</td>\n",
              "      <td>1.00</td>\n",
              "      <td>1.00</td>\n",
              "      <td>1.00</td>\n",
              "      <td>15.00</td>\n",
              "      <td>1.00</td>\n",
              "    </tr>\n",
              "  </tbody>\n",
              "</table>\n",
              "</div>"
            ],
            "text/plain": [
              "          Ind_ID  CHILDREN  Annual_income  Birthday_count  Employed_days  \\\n",
              "count    1473.00   1473.00        1473.00         1473.00        1473.00   \n",
              "mean  5078827.32      0.40      177889.32       -16054.34       -2245.69   \n",
              "std     41437.27      0.78       76598.96         4206.41        2435.23   \n",
              "min   5008827.00      0.00       33750.00       -24946.00      -14887.00   \n",
              "25%   5045255.00      0.00      117000.00       -19565.00       -3202.00   \n",
              "50%   5074705.00      0.00      157500.00       -15643.00       -1587.00   \n",
              "75%   5115611.00      1.00      225000.00       -12518.00        -424.00   \n",
              "max   5150412.00     14.00      445500.00        -7705.00           0.00   \n",
              "\n",
              "       Mobile_phone  Work_Phone   Phone  EMAIL_ID  Family_Members   label  \n",
              "count       1473.00     1473.00 1473.00   1473.00         1473.00 1473.00  \n",
              "mean           1.00        0.21    0.30      0.09            2.16    0.10  \n",
              "std            0.00        0.41    0.46      0.28            0.95    0.30  \n",
              "min            1.00        0.00    0.00      0.00            1.00    0.00  \n",
              "25%            1.00        0.00    0.00      0.00            2.00    0.00  \n",
              "50%            1.00        0.00    0.00      0.00            2.00    0.00  \n",
              "75%            1.00        0.00    1.00      0.00            3.00    0.00  \n",
              "max            1.00        1.00    1.00      1.00           15.00    1.00  "
            ]
          },
          "execution_count": 65,
          "metadata": {},
          "output_type": "execute_result"
        }
      ],
      "source": [
        "merged_data.describe()"
      ]
    },
    {
      "cell_type": "code",
      "execution_count": null,
      "id": "edd640a8",
      "metadata": {
        "id": "edd640a8"
      },
      "outputs": [],
      "source": []
    },
    {
      "cell_type": "markdown",
      "id": "95f12d34",
      "metadata": {
        "id": "95f12d34"
      },
      "source": [
        "# Data Visualization and Data Analysis"
      ]
    },
    {
      "cell_type": "code",
      "execution_count": null,
      "id": "e03610ab",
      "metadata": {
        "scrolled": true,
        "id": "e03610ab",
        "outputId": "a2f722c1-f6a6-43c3-8c74-71b1178d6f4f"
      },
      "outputs": [
        {
          "data": {
            "image/png": "[encoded data removed]",
            "text/plain": [
              "<Figure size 1008x504 with 2 Axes>"
            ]
          },
          "metadata": {
            "needs_background": "light"
          },
          "output_type": "display_data"
        }
      ],
      "source": [
        "# Plotting correlation Matrix\n",
        "\n",
        "plt.figure(figsize= (14,7))\n",
        "\n",
        "sns.heatmap(merged_data[[\"Ind_ID\", \"CHILDREN\", \"Annual_income\" ,\"Birthday_count\",\"Employed_days\" , \"Work_Phone\", \"Phone\", \"EMAIL_ID\", \"Family_Members\" ,\"label\"]].corr(method = 'pearson'),cmap =\"Greens\" ,annot = True)\n",
        "plt.xticks(rotation =45)\n",
        "plt.show()"
      ]
    },
    {
      "cell_type": "markdown",
      "id": "e6ace33f",
      "metadata": {
        "id": "e6ace33f"
      },
      "source": [
        "Below columns have high correlation values for Payment difficulties\n",
        "- Family_Members and CHILDREN\n",
        "- Phone and Work_Phone\n"
      ]
    },
    {
      "cell_type": "markdown",
      "id": "cc52fcdc",
      "metadata": {
        "id": "cc52fcdc"
      },
      "source": [
        "Checking Column Ind_ID"
      ]
    },
    {
      "cell_type": "code",
      "execution_count": null,
      "id": "208a6732",
      "metadata": {
        "id": "208a6732",
        "outputId": "d54447f4-be16-4948-962c-f8f4543fc433"
      },
      "outputs": [
        {
          "data": {
            "text/plain": [
              "0"
            ]
          },
          "execution_count": 67,
          "metadata": {},
          "output_type": "execute_result"
        }
      ],
      "source": [
        "# Checking if duplicate values are present in Ind_ID Column\n",
        "credit_card.Ind_ID.duplicated().sum()\n"
      ]
    },
    {
      "cell_type": "markdown",
      "id": "e01ccbb8",
      "metadata": {
        "id": "e01ccbb8"
      },
      "source": [
        "No dupliacte values are present"
      ]
    },
    {
      "cell_type": "code",
      "execution_count": null,
      "id": "daae057b",
      "metadata": {
        "id": "daae057b",
        "outputId": "a36414a8-5d31-46b3-a4ad-0217f8bb67df"
      },
      "outputs": [
        {
          "data": {
            "text/plain": [
              "Index(['Ind_ID', 'GENDER', 'Car_Owner', 'Propert_Owner', 'CHILDREN',\n",
              "       'Annual_income', 'Type_Income', 'EDUCATION', 'Marital_status',\n",
              "       'Housing_type', 'Birthday_count', 'Employed_days', 'Mobile_phone',\n",
              "       'Work_Phone', 'Phone', 'EMAIL_ID', 'Type_Occupation', 'Family_Members',\n",
              "       'label'],\n",
              "      dtype='object')"
            ]
          },
          "execution_count": 68,
          "metadata": {},
          "output_type": "execute_result"
        }
      ],
      "source": [
        "merged_data.columns"
      ]
    },
    {
      "cell_type": "markdown",
      "id": "d6ee8b56",
      "metadata": {
        "id": "d6ee8b56"
      },
      "source": [
        " Checking Column CHILDREN"
      ]
    },
    {
      "cell_type": "code",
      "execution_count": null,
      "id": "1e25059c",
      "metadata": {
        "id": "1e25059c",
        "outputId": "1f752ccf-55b9-474d-865a-610b95e36982"
      },
      "outputs": [
        {
          "data": {
            "text/plain": [
              "count   1473.00\n",
              "mean       0.40\n",
              "std        0.78\n",
              "min        0.00\n",
              "25%        0.00\n",
              "50%        0.00\n",
              "75%        1.00\n",
              "max       14.00\n",
              "Name: CHILDREN, dtype: float64"
            ]
          },
          "execution_count": 69,
          "metadata": {},
          "output_type": "execute_result"
        }
      ],
      "source": [
        "credit_card.CHILDREN.describe()"
      ]
    },
    {
      "cell_type": "code",
      "execution_count": null,
      "id": "e9358bab",
      "metadata": {
        "id": "e9358bab",
        "outputId": "f1024fd8-279d-4a32-d794-78d5b2deb333"
      },
      "outputs": [
        {
          "data": {
            "image/png": "[encoded data removed]",
            "text/plain": [
              "<Figure size 720x504 with 1 Axes>"
            ]
          },
          "metadata": {
            "needs_background": "light"
          },
          "output_type": "display_data"
        }
      ],
      "source": [
        "plt.figure(figsize = (10,7))\n",
        "sns.boxplot(credit_card.CHILDREN)\n",
        "plt.show()"
      ]
    },
    {
      "cell_type": "markdown",
      "id": "c616ea14",
      "metadata": {
        "id": "c616ea14"
      },
      "source": [
        "#### Observations\n",
        "As per the box plot we can see that one client has 14 childern which can be considered as an outlier"
      ]
    },
    {
      "cell_type": "markdown",
      "id": "92de7de0",
      "metadata": {
        "id": "92de7de0"
      },
      "source": [
        " Checking Column Annual_income "
      ]
    },
    {
      "cell_type": "code",
      "execution_count": null,
      "id": "9a363677",
      "metadata": {
        "scrolled": true,
        "id": "9a363677",
        "outputId": "a3923323-2b1a-4345-82aa-f8f8093a248b"
      },
      "outputs": [
        {
          "data": {
            "text/plain": [
              "count     1473.00\n",
              "mean    177889.32\n",
              "std      76598.96\n",
              "min      33750.00\n",
              "25%     117000.00\n",
              "50%     157500.00\n",
              "75%     225000.00\n",
              "max     445500.00\n",
              "Name: Annual_income, dtype: float64"
            ]
          },
          "execution_count": 71,
          "metadata": {},
          "output_type": "execute_result"
        }
      ],
      "source": [
        "merged_data.Annual_income.describe()"
      ]
    },
    {
      "cell_type": "code",
      "execution_count": null,
      "id": "61b68265",
      "metadata": {
        "id": "61b68265",
        "outputId": "9ece2229-54a3-4d69-8dd1-d9804f15dea9"
      },
      "outputs": [
        {
          "data": {
            "text/plain": [
              "count     1473.00\n",
              "mean    177889.32\n",
              "std      76598.96\n",
              "min      33750.00\n",
              "25%     117000.00\n",
              "50%     157500.00\n",
              "75%     225000.00\n",
              "max     445500.00\n",
              "Name: Annual_income, dtype: float64"
            ]
          },
          "execution_count": 72,
          "metadata": {},
          "output_type": "execute_result"
        }
      ],
      "source": [
        "merged_data.Annual_income.describe()"
      ]
    },
    {
      "cell_type": "code",
      "execution_count": null,
      "id": "29345485",
      "metadata": {
        "id": "29345485",
        "outputId": "ca4b1072-5d87-4996-d686-a2f0ca9ead1e"
      },
      "outputs": [
        {
          "name": "stdout",
          "output_type": "stream",
          "text": [
            "minimum Annual_income = 33750.0\n",
            "Maximum Annual_income = 445500.0\n",
            "median Annual_income = 157500.0\n",
            "mode Annual_income = 135000.0\n"
          ]
        }
      ],
      "source": [
        "print(\"minimum Annual_income =\" , merged_data.Annual_income.min())\n",
        "print(\"Maximum Annual_income =\" , merged_data.Annual_income.max())\n",
        "print(\"median Annual_income =\" , merged_data.Annual_income.median())\n",
        "print(\"mode Annual_income =\" , merged_data.Annual_income.mode()[0] )"
      ]
    },
    {
      "cell_type": "code",
      "execution_count": null,
      "id": "0fd3353e",
      "metadata": {
        "scrolled": true,
        "id": "0fd3353e",
        "outputId": "e5868add-21e3-47d1-ddf6-236bbd260459"
      },
      "outputs": [
        {
          "data": {
            "image/png": "[encoded data removed]",
            "text/plain": [
              "<Figure size 720x504 with 1 Axes>"
            ]
          },
          "metadata": {
            "needs_background": "light"
          },
          "output_type": "display_data"
        }
      ],
      "source": [
        "plt.figure(figsize = (10,7))\n",
        "sns.boxplot(credit_card.Annual_income)\n",
        "plt.show()"
      ]
    },
    {
      "cell_type": "markdown",
      "id": "4f50f73a",
      "metadata": {
        "id": "4f50f73a"
      },
      "source": [
        "#### Observations\n",
        "As per the box plot we can see that there are some outliers in Annual_income"
      ]
    },
    {
      "cell_type": "code",
      "execution_count": null,
      "id": "736928b1",
      "metadata": {
        "id": "736928b1"
      },
      "outputs": [],
      "source": [
        "# Binning continuous variable column Annual_income for better analysis"
      ]
    },
    {
      "cell_type": "code",
      "execution_count": null,
      "id": "59f32b4f",
      "metadata": {
        "id": "59f32b4f",
        "outputId": "c290de99-ea82-4e28-d838-f4c10335af4d"
      },
      "outputs": [
        {
          "data": {
            "text/plain": [
              "count     1473.00\n",
              "mean    177889.32\n",
              "std      76598.96\n",
              "min      33750.00\n",
              "10%      90000.00\n",
              "25%     117000.00\n",
              "50%     157500.00\n",
              "75%     225000.00\n",
              "90%     292500.00\n",
              "95%     315000.00\n",
              "97%     360000.00\n",
              "99%     391500.00\n",
              "max     445500.00\n",
              "Name: Annual_income, dtype: float64"
            ]
          },
          "execution_count": 76,
          "metadata": {},
          "output_type": "execute_result"
        }
      ],
      "source": [
        "merged_data.Annual_income.describe(percentiles=[0.1,0.25,0.5,0.75,0.90,0.95,0.97,0.99])"
      ]
    },
    {
      "cell_type": "code",
      "execution_count": null,
      "id": "3963e4e6",
      "metadata": {
        "id": "3963e4e6",
        "outputId": "7f3a38c0-bb4d-40da-c87b-d5a6c0ef6ffc"
      },
      "outputs": [
        {
          "data": {
            "text/plain": [
              "0          medium\n",
              "1            high\n",
              "2            high\n",
              "3            high\n",
              "4            high\n",
              "          ...    \n",
              "1468    very_high\n",
              "1469       medium\n",
              "1470       medium\n",
              "1471         high\n",
              "1472       medium\n",
              "Name: Annual_income, Length: 1473, dtype: category\n",
              "Categories (5, object): ['very_low' < 'low' < 'medium' < 'high' < 'very_high']"
            ]
          },
          "execution_count": 77,
          "metadata": {},
          "output_type": "execute_result"
        }
      ],
      "source": [
        "pd.qcut(merged_data.Annual_income , labels =[\"very_low\" , \"low\" , \"medium\" , \"high\" , \"very_high\"] , q = [0,0.2, 0.5,0.8, 0.95, 1])"
      ]
    },
    {
      "cell_type": "code",
      "execution_count": null,
      "id": "cb600808",
      "metadata": {
        "id": "cb600808"
      },
      "outputs": [],
      "source": [
        "merged_data[\"Income_Range\"] = pd.qcut(merged_data.Annual_income , labels =[\"very_low\" , \"low\" , \"medium\" , \"high\" , \"very_high\"] , q = [0,0.2, 0.5,0.8, 0.95, 1])"
      ]
    },
    {
      "cell_type": "code",
      "execution_count": null,
      "id": "68e4a62f",
      "metadata": {
        "id": "68e4a62f",
        "outputId": "c5931198-87d4-458f-e873-6f94d9513227"
      },
      "outputs": [
        {
          "data": {
            "text/html": [
              "<div>\n",
              "<style scoped>\n",
              "    .dataframe tbody tr th:only-of-type {\n",
              "        vertical-align: middle;\n",
              "    }\n",
              "\n",
              "    .dataframe tbody tr th {\n",
              "        vertical-align: top;\n",
              "    }\n",
              "\n",
              "    .dataframe thead th {\n",
              "        text-align: right;\n",
              "    }\n",
              "</style>\n",
              "<table border=\"1\" class=\"dataframe\">\n",
              "  <thead>\n",
              "    <tr style=\"text-align: right;\">\n",
              "      <th></th>\n",
              "      <th>Ind_ID</th>\n",
              "      <th>GENDER</th>\n",
              "      <th>Car_Owner</th>\n",
              "      <th>Propert_Owner</th>\n",
              "      <th>CHILDREN</th>\n",
              "      <th>Annual_income</th>\n",
              "      <th>Type_Income</th>\n",
              "      <th>EDUCATION</th>\n",
              "      <th>Marital_status</th>\n",
              "      <th>Housing_type</th>\n",
              "      <th>Birthday_count</th>\n",
              "      <th>Employed_days</th>\n",
              "      <th>Mobile_phone</th>\n",
              "      <th>Work_Phone</th>\n",
              "      <th>Phone</th>\n",
              "      <th>EMAIL_ID</th>\n",
              "      <th>Type_Occupation</th>\n",
              "      <th>Family_Members</th>\n",
              "      <th>label</th>\n",
              "      <th>Income_Range</th>\n",
              "    </tr>\n",
              "  </thead>\n",
              "  <tbody>\n",
              "    <tr>\n",
              "      <th>0</th>\n",
              "      <td>5008827</td>\n",
              "      <td>M</td>\n",
              "      <td>Y</td>\n",
              "      <td>Y</td>\n",
              "      <td>0</td>\n",
              "      <td>180000.00</td>\n",
              "      <td>Pensioner</td>\n",
              "      <td>Higher education</td>\n",
              "      <td>Married</td>\n",
              "      <td>House / apartment</td>\n",
              "      <td>-18772.00</td>\n",
              "      <td>0</td>\n",
              "      <td>1</td>\n",
              "      <td>0</td>\n",
              "      <td>0</td>\n",
              "      <td>0</td>\n",
              "      <td>Not Specified</td>\n",
              "      <td>2</td>\n",
              "      <td>1</td>\n",
              "      <td>medium</td>\n",
              "    </tr>\n",
              "    <tr>\n",
              "      <th>1</th>\n",
              "      <td>5009744</td>\n",
              "      <td>F</td>\n",
              "      <td>Y</td>\n",
              "      <td>N</td>\n",
              "      <td>0</td>\n",
              "      <td>315000.00</td>\n",
              "      <td>Commercial associate</td>\n",
              "      <td>Higher education</td>\n",
              "      <td>Married</td>\n",
              "      <td>House / apartment</td>\n",
              "      <td>-13557.00</td>\n",
              "      <td>-586</td>\n",
              "      <td>1</td>\n",
              "      <td>1</td>\n",
              "      <td>1</td>\n",
              "      <td>0</td>\n",
              "      <td>Not Specified</td>\n",
              "      <td>2</td>\n",
              "      <td>1</td>\n",
              "      <td>high</td>\n",
              "    </tr>\n",
              "    <tr>\n",
              "      <th>2</th>\n",
              "      <td>5009746</td>\n",
              "      <td>F</td>\n",
              "      <td>Y</td>\n",
              "      <td>N</td>\n",
              "      <td>0</td>\n",
              "      <td>315000.00</td>\n",
              "      <td>Commercial associate</td>\n",
              "      <td>Higher education</td>\n",
              "      <td>Married</td>\n",
              "      <td>House / apartment</td>\n",
              "      <td>-15643.00</td>\n",
              "      <td>-586</td>\n",
              "      <td>1</td>\n",
              "      <td>1</td>\n",
              "      <td>1</td>\n",
              "      <td>0</td>\n",
              "      <td>Not Specified</td>\n",
              "      <td>2</td>\n",
              "      <td>1</td>\n",
              "      <td>high</td>\n",
              "    </tr>\n",
              "    <tr>\n",
              "      <th>3</th>\n",
              "      <td>5009752</td>\n",
              "      <td>F</td>\n",
              "      <td>Y</td>\n",
              "      <td>N</td>\n",
              "      <td>0</td>\n",
              "      <td>315000.00</td>\n",
              "      <td>Commercial associate</td>\n",
              "      <td>Higher education</td>\n",
              "      <td>Married</td>\n",
              "      <td>House / apartment</td>\n",
              "      <td>-13557.00</td>\n",
              "      <td>-586</td>\n",
              "      <td>1</td>\n",
              "      <td>1</td>\n",
              "      <td>1</td>\n",
              "      <td>0</td>\n",
              "      <td>Not Specified</td>\n",
              "      <td>2</td>\n",
              "      <td>1</td>\n",
              "      <td>high</td>\n",
              "    </tr>\n",
              "    <tr>\n",
              "      <th>4</th>\n",
              "      <td>5009753</td>\n",
              "      <td>F</td>\n",
              "      <td>Y</td>\n",
              "      <td>N</td>\n",
              "      <td>0</td>\n",
              "      <td>315000.00</td>\n",
              "      <td>Pensioner</td>\n",
              "      <td>Higher education</td>\n",
              "      <td>Married</td>\n",
              "      <td>House / apartment</td>\n",
              "      <td>-13557.00</td>\n",
              "      <td>-586</td>\n",
              "      <td>1</td>\n",
              "      <td>1</td>\n",
              "      <td>1</td>\n",
              "      <td>0</td>\n",
              "      <td>Not Specified</td>\n",
              "      <td>2</td>\n",
              "      <td>1</td>\n",
              "      <td>high</td>\n",
              "    </tr>\n",
              "  </tbody>\n",
              "</table>\n",
              "</div>"
            ],
            "text/plain": [
              "    Ind_ID GENDER Car_Owner Propert_Owner  CHILDREN  Annual_income  \\\n",
              "0  5008827      M         Y             Y         0      180000.00   \n",
              "1  5009744      F         Y             N         0      315000.00   \n",
              "2  5009746      F         Y             N         0      315000.00   \n",
              "3  5009752      F         Y             N         0      315000.00   \n",
              "4  5009753      F         Y             N         0      315000.00   \n",
              "\n",
              "            Type_Income         EDUCATION Marital_status       Housing_type  \\\n",
              "0             Pensioner  Higher education        Married  House / apartment   \n",
              "1  Commercial associate  Higher education        Married  House / apartment   \n",
              "2  Commercial associate  Higher education        Married  House / apartment   \n",
              "3  Commercial associate  Higher education        Married  House / apartment   \n",
              "4             Pensioner  Higher education        Married  House / apartment   \n",
              "\n",
              "   Birthday_count  Employed_days  Mobile_phone  Work_Phone  Phone  EMAIL_ID  \\\n",
              "0       -18772.00              0             1           0      0         0   \n",
              "1       -13557.00           -586             1           1      1         0   \n",
              "2       -15643.00           -586             1           1      1         0   \n",
              "3       -13557.00           -586             1           1      1         0   \n",
              "4       -13557.00           -586             1           1      1         0   \n",
              "\n",
              "  Type_Occupation  Family_Members  label Income_Range  \n",
              "0   Not Specified               2      1       medium  \n",
              "1   Not Specified               2      1         high  \n",
              "2   Not Specified               2      1         high  \n",
              "3   Not Specified               2      1         high  \n",
              "4   Not Specified               2      1         high  "
            ]
          },
          "execution_count": 79,
          "metadata": {},
          "output_type": "execute_result"
        }
      ],
      "source": [
        "merged_data.head()"
      ]
    },
    {
      "cell_type": "code",
      "execution_count": null,
      "id": "c63aaedc",
      "metadata": {
        "scrolled": true,
        "id": "c63aaedc",
        "outputId": "962e8669-b379-4853-87c5-ba12d87e5faa"
      },
      "outputs": [
        {
          "data": {
            "text/plain": [
              "medium       429\n",
              "low          391\n",
              "very_low     364\n",
              "high         217\n",
              "very_high     72\n",
              "Name: Income_Range, dtype: int64"
            ]
          },
          "execution_count": 80,
          "metadata": {},
          "output_type": "execute_result"
        }
      ],
      "source": [
        "merged_data.Income_Range.value_counts()"
      ]
    },
    {
      "cell_type": "code",
      "execution_count": null,
      "id": "e91d167a",
      "metadata": {
        "id": "e91d167a",
        "outputId": "397994f8-b70a-49ab-8823-b41b2d60dbe9"
      },
      "outputs": [
        {
          "data": {
            "image/png": "[encoded data removed]",
            "text/plain": [
              "<Figure size 720x504 with 1 Axes>"
            ]
          },
          "metadata": {
            "needs_background": "light"
          },
          "output_type": "display_data"
        }
      ],
      "source": [
        "plt.figure(figsize=(10,7))\n",
        "sns.countplot(merged_data.Income_Range)\n",
        "plt.show()"
      ]
    },
    {
      "cell_type": "markdown",
      "id": "7bb488d2",
      "metadata": {
        "id": "7bb488d2"
      },
      "source": [
        "#### Observations\n",
        "\n",
        "Above figure shows that majority of clients are from \"Medium\" income range"
      ]
    },
    {
      "cell_type": "markdown",
      "id": "7b8a1e1e",
      "metadata": {
        "id": "7b8a1e1e"
      },
      "source": [
        " Checking Column Birthday_count"
      ]
    },
    {
      "cell_type": "code",
      "execution_count": null,
      "id": "ba00bdaa",
      "metadata": {
        "id": "ba00bdaa",
        "outputId": "e04057ff-f67e-412d-a059-9f92d5807e50"
      },
      "outputs": [
        {
          "data": {
            "text/plain": [
              "count     1473.00\n",
              "mean    -16054.34\n",
              "std       4206.41\n",
              "min     -24946.00\n",
              "25%     -19565.00\n",
              "50%     -15643.00\n",
              "75%     -12518.00\n",
              "max      -7705.00\n",
              "Name: Birthday_count, dtype: float64"
            ]
          },
          "execution_count": 82,
          "metadata": {},
          "output_type": "execute_result"
        }
      ],
      "source": [
        "merged_data.Birthday_count.describe()"
      ]
    },
    {
      "cell_type": "code",
      "execution_count": null,
      "id": "34e6a722",
      "metadata": {
        "id": "34e6a722",
        "outputId": "fde28127-44d0-4efe-d99a-0a6bff2e7de9"
      },
      "outputs": [
        {
          "name": "stdout",
          "output_type": "stream",
          "text": [
            "minimum Birthday_count = -24946.0\n",
            "Maximum Birthday_count = -7705.0\n",
            "median Birthday_count = -15643.0\n",
            "mode Birthday_count = -15643.0\n"
          ]
        }
      ],
      "source": [
        "print(\"minimum Birthday_count =\" , merged_data.Birthday_count.min())\n",
        "print(\"Maximum Birthday_count =\" , merged_data.Birthday_count.max())\n",
        "print(\"median Birthday_count =\" , merged_data.Birthday_count.median())\n",
        "print(\"mode Birthday_count =\" , merged_data.Birthday_count.mode()[0] )"
      ]
    },
    {
      "cell_type": "code",
      "execution_count": null,
      "id": "900cd37b",
      "metadata": {
        "id": "900cd37b",
        "outputId": "5335dd26-d077-4dd8-fe89-80fd63fbe0b3"
      },
      "outputs": [
        {
          "data": {
            "image/png": "[encoded data removed]",
            "text/plain": [
              "<Figure size 504x288 with 1 Axes>"
            ]
          },
          "metadata": {
            "needs_background": "light"
          },
          "output_type": "display_data"
        }
      ],
      "source": [
        "plt.figure(figsize =(7,4))\n",
        "sns.boxplot(merged_data.Birthday_count)\n",
        "plt.show()"
      ]
    },
    {
      "cell_type": "code",
      "execution_count": null,
      "id": "62f04a90",
      "metadata": {
        "id": "62f04a90"
      },
      "outputs": [],
      "source": [
        "merged_data.Birthday_count= round(merged_data.Birthday_count/-365, 0)\n",
        "\n",
        "merged_data.rename(columns={'Birthday_count':'AGE_YEARS'}, inplace=True)\n"
      ]
    },
    {
      "cell_type": "code",
      "execution_count": null,
      "id": "e29cb2ef",
      "metadata": {
        "scrolled": true,
        "id": "e29cb2ef",
        "outputId": "e0ed0059-f863-44e6-f770-771019030ff8"
      },
      "outputs": [
        {
          "data": {
            "text/html": [
              "<div>\n",
              "<style scoped>\n",
              "    .dataframe tbody tr th:only-of-type {\n",
              "        vertical-align: middle;\n",
              "    }\n",
              "\n",
              "    .dataframe tbody tr th {\n",
              "        vertical-align: top;\n",
              "    }\n",
              "\n",
              "    .dataframe thead th {\n",
              "        text-align: right;\n",
              "    }\n",
              "</style>\n",
              "<table border=\"1\" class=\"dataframe\">\n",
              "  <thead>\n",
              "    <tr style=\"text-align: right;\">\n",
              "      <th></th>\n",
              "      <th>Ind_ID</th>\n",
              "      <th>GENDER</th>\n",
              "      <th>Car_Owner</th>\n",
              "      <th>Propert_Owner</th>\n",
              "      <th>CHILDREN</th>\n",
              "      <th>Annual_income</th>\n",
              "      <th>Type_Income</th>\n",
              "      <th>EDUCATION</th>\n",
              "      <th>Marital_status</th>\n",
              "      <th>Housing_type</th>\n",
              "      <th>AGE_YEARS</th>\n",
              "      <th>Employed_days</th>\n",
              "      <th>Mobile_phone</th>\n",
              "      <th>Work_Phone</th>\n",
              "      <th>Phone</th>\n",
              "      <th>EMAIL_ID</th>\n",
              "      <th>Type_Occupation</th>\n",
              "      <th>Family_Members</th>\n",
              "      <th>label</th>\n",
              "      <th>Income_Range</th>\n",
              "    </tr>\n",
              "  </thead>\n",
              "  <tbody>\n",
              "    <tr>\n",
              "      <th>0</th>\n",
              "      <td>5008827</td>\n",
              "      <td>M</td>\n",
              "      <td>Y</td>\n",
              "      <td>Y</td>\n",
              "      <td>0</td>\n",
              "      <td>180000.00</td>\n",
              "      <td>Pensioner</td>\n",
              "      <td>Higher education</td>\n",
              "      <td>Married</td>\n",
              "      <td>House / apartment</td>\n",
              "      <td>51.00</td>\n",
              "      <td>0</td>\n",
              "      <td>1</td>\n",
              "      <td>0</td>\n",
              "      <td>0</td>\n",
              "      <td>0</td>\n",
              "      <td>Not Specified</td>\n",
              "      <td>2</td>\n",
              "      <td>1</td>\n",
              "      <td>medium</td>\n",
              "    </tr>\n",
              "    <tr>\n",
              "      <th>1</th>\n",
              "      <td>5009744</td>\n",
              "      <td>F</td>\n",
              "      <td>Y</td>\n",
              "      <td>N</td>\n",
              "      <td>0</td>\n",
              "      <td>315000.00</td>\n",
              "      <td>Commercial associate</td>\n",
              "      <td>Higher education</td>\n",
              "      <td>Married</td>\n",
              "      <td>House / apartment</td>\n",
              "      <td>37.00</td>\n",
              "      <td>-586</td>\n",
              "      <td>1</td>\n",
              "      <td>1</td>\n",
              "      <td>1</td>\n",
              "      <td>0</td>\n",
              "      <td>Not Specified</td>\n",
              "      <td>2</td>\n",
              "      <td>1</td>\n",
              "      <td>high</td>\n",
              "    </tr>\n",
              "    <tr>\n",
              "      <th>2</th>\n",
              "      <td>5009746</td>\n",
              "      <td>F</td>\n",
              "      <td>Y</td>\n",
              "      <td>N</td>\n",
              "      <td>0</td>\n",
              "      <td>315000.00</td>\n",
              "      <td>Commercial associate</td>\n",
              "      <td>Higher education</td>\n",
              "      <td>Married</td>\n",
              "      <td>House / apartment</td>\n",
              "      <td>43.00</td>\n",
              "      <td>-586</td>\n",
              "      <td>1</td>\n",
              "      <td>1</td>\n",
              "      <td>1</td>\n",
              "      <td>0</td>\n",
              "      <td>Not Specified</td>\n",
              "      <td>2</td>\n",
              "      <td>1</td>\n",
              "      <td>high</td>\n",
              "    </tr>\n",
              "    <tr>\n",
              "      <th>3</th>\n",
              "      <td>5009752</td>\n",
              "      <td>F</td>\n",
              "      <td>Y</td>\n",
              "      <td>N</td>\n",
              "      <td>0</td>\n",
              "      <td>315000.00</td>\n",
              "      <td>Commercial associate</td>\n",
              "      <td>Higher education</td>\n",
              "      <td>Married</td>\n",
              "      <td>House / apartment</td>\n",
              "      <td>37.00</td>\n",
              "      <td>-586</td>\n",
              "      <td>1</td>\n",
              "      <td>1</td>\n",
              "      <td>1</td>\n",
              "      <td>0</td>\n",
              "      <td>Not Specified</td>\n",
              "      <td>2</td>\n",
              "      <td>1</td>\n",
              "      <td>high</td>\n",
              "    </tr>\n",
              "    <tr>\n",
              "      <th>4</th>\n",
              "      <td>5009753</td>\n",
              "      <td>F</td>\n",
              "      <td>Y</td>\n",
              "      <td>N</td>\n",
              "      <td>0</td>\n",
              "      <td>315000.00</td>\n",
              "      <td>Pensioner</td>\n",
              "      <td>Higher education</td>\n",
              "      <td>Married</td>\n",
              "      <td>House / apartment</td>\n",
              "      <td>37.00</td>\n",
              "      <td>-586</td>\n",
              "      <td>1</td>\n",
              "      <td>1</td>\n",
              "      <td>1</td>\n",
              "      <td>0</td>\n",
              "      <td>Not Specified</td>\n",
              "      <td>2</td>\n",
              "      <td>1</td>\n",
              "      <td>high</td>\n",
              "    </tr>\n",
              "  </tbody>\n",
              "</table>\n",
              "</div>"
            ],
            "text/plain": [
              "    Ind_ID GENDER Car_Owner Propert_Owner  CHILDREN  Annual_income  \\\n",
              "0  5008827      M         Y             Y         0      180000.00   \n",
              "1  5009744      F         Y             N         0      315000.00   \n",
              "2  5009746      F         Y             N         0      315000.00   \n",
              "3  5009752      F         Y             N         0      315000.00   \n",
              "4  5009753      F         Y             N         0      315000.00   \n",
              "\n",
              "            Type_Income         EDUCATION Marital_status       Housing_type  \\\n",
              "0             Pensioner  Higher education        Married  House / apartment   \n",
              "1  Commercial associate  Higher education        Married  House / apartment   \n",
              "2  Commercial associate  Higher education        Married  House / apartment   \n",
              "3  Commercial associate  Higher education        Married  House / apartment   \n",
              "4             Pensioner  Higher education        Married  House / apartment   \n",
              "\n",
              "   AGE_YEARS  Employed_days  Mobile_phone  Work_Phone  Phone  EMAIL_ID  \\\n",
              "0      51.00              0             1           0      0         0   \n",
              "1      37.00           -586             1           1      1         0   \n",
              "2      43.00           -586             1           1      1         0   \n",
              "3      37.00           -586             1           1      1         0   \n",
              "4      37.00           -586             1           1      1         0   \n",
              "\n",
              "  Type_Occupation  Family_Members  label Income_Range  \n",
              "0   Not Specified               2      1       medium  \n",
              "1   Not Specified               2      1         high  \n",
              "2   Not Specified               2      1         high  \n",
              "3   Not Specified               2      1         high  \n",
              "4   Not Specified               2      1         high  "
            ]
          },
          "execution_count": 86,
          "metadata": {},
          "output_type": "execute_result"
        }
      ],
      "source": [
        "merged_data.head()"
      ]
    },
    {
      "cell_type": "code",
      "execution_count": null,
      "id": "3d059ca2",
      "metadata": {
        "id": "3d059ca2",
        "outputId": "8843a4e9-3902-434f-da09-c5cfe28aa8a1"
      },
      "outputs": [
        {
          "data": {
            "image/png": "[encoded data removed]",
            "text/plain": [
              "<Figure size 504x360 with 1 Axes>"
            ]
          },
          "metadata": {
            "needs_background": "light"
          },
          "output_type": "display_data"
        }
      ],
      "source": [
        "plt.figure(figsize=(7,5))\n",
        "sns.boxplot(merged_data.AGE_YEARS)\n",
        "plt.show()"
      ]
    },
    {
      "cell_type": "code",
      "execution_count": null,
      "id": "f626e630",
      "metadata": {
        "id": "f626e630",
        "outputId": "9aee3d09-7e90-4936-decc-81abd686310d"
      },
      "outputs": [
        {
          "data": {
            "text/plain": [
              "count   1473.00\n",
              "mean      43.99\n",
              "std       11.54\n",
              "min       21.00\n",
              "25%       34.00\n",
              "50%       43.00\n",
              "75%       54.00\n",
              "max       68.00\n",
              "Name: AGE_YEARS, dtype: float64"
            ]
          },
          "execution_count": 88,
          "metadata": {},
          "output_type": "execute_result"
        }
      ],
      "source": [
        "merged_data.AGE_YEARS.describe()"
      ]
    },
    {
      "cell_type": "code",
      "execution_count": null,
      "id": "14045a61",
      "metadata": {
        "id": "14045a61"
      },
      "outputs": [],
      "source": []
    },
    {
      "cell_type": "code",
      "execution_count": null,
      "id": "6960b9a5",
      "metadata": {
        "id": "6960b9a5"
      },
      "outputs": [],
      "source": [
        "# Binning continuous variable column AGE_YEARS for better analysis\n",
        "\n",
        "\n",
        "merged_data[\"Age_group\"] = pd.cut(merged_data.AGE_YEARS ,labels = [\"very_young\" , \"young\" , \"middle_age\" , \"senior_citizen\"] , bins = [19,25,35,60,100])"
      ]
    },
    {
      "cell_type": "code",
      "execution_count": null,
      "id": "cce7dc77",
      "metadata": {
        "id": "cce7dc77",
        "outputId": "0fcd266f-d2b8-4189-ee00-9e70aca0ef6d"
      },
      "outputs": [
        {
          "data": {
            "text/html": [
              "<div>\n",
              "<style scoped>\n",
              "    .dataframe tbody tr th:only-of-type {\n",
              "        vertical-align: middle;\n",
              "    }\n",
              "\n",
              "    .dataframe tbody tr th {\n",
              "        vertical-align: top;\n",
              "    }\n",
              "\n",
              "    .dataframe thead th {\n",
              "        text-align: right;\n",
              "    }\n",
              "</style>\n",
              "<table border=\"1\" class=\"dataframe\">\n",
              "  <thead>\n",
              "    <tr style=\"text-align: right;\">\n",
              "      <th></th>\n",
              "      <th>Ind_ID</th>\n",
              "      <th>GENDER</th>\n",
              "      <th>Car_Owner</th>\n",
              "      <th>Propert_Owner</th>\n",
              "      <th>CHILDREN</th>\n",
              "      <th>Annual_income</th>\n",
              "      <th>Type_Income</th>\n",
              "      <th>EDUCATION</th>\n",
              "      <th>Marital_status</th>\n",
              "      <th>Housing_type</th>\n",
              "      <th>...</th>\n",
              "      <th>Employed_days</th>\n",
              "      <th>Mobile_phone</th>\n",
              "      <th>Work_Phone</th>\n",
              "      <th>Phone</th>\n",
              "      <th>EMAIL_ID</th>\n",
              "      <th>Type_Occupation</th>\n",
              "      <th>Family_Members</th>\n",
              "      <th>label</th>\n",
              "      <th>Income_Range</th>\n",
              "      <th>Age_group</th>\n",
              "    </tr>\n",
              "  </thead>\n",
              "  <tbody>\n",
              "    <tr>\n",
              "      <th>0</th>\n",
              "      <td>5008827</td>\n",
              "      <td>M</td>\n",
              "      <td>Y</td>\n",
              "      <td>Y</td>\n",
              "      <td>0</td>\n",
              "      <td>180000.00</td>\n",
              "      <td>Pensioner</td>\n",
              "      <td>Higher education</td>\n",
              "      <td>Married</td>\n",
              "      <td>House / apartment</td>\n",
              "      <td>...</td>\n",
              "      <td>0</td>\n",
              "      <td>1</td>\n",
              "      <td>0</td>\n",
              "      <td>0</td>\n",
              "      <td>0</td>\n",
              "      <td>Not Specified</td>\n",
              "      <td>2</td>\n",
              "      <td>1</td>\n",
              "      <td>medium</td>\n",
              "      <td>middle_age</td>\n",
              "    </tr>\n",
              "    <tr>\n",
              "      <th>1</th>\n",
              "      <td>5009744</td>\n",
              "      <td>F</td>\n",
              "      <td>Y</td>\n",
              "      <td>N</td>\n",
              "      <td>0</td>\n",
              "      <td>315000.00</td>\n",
              "      <td>Commercial associate</td>\n",
              "      <td>Higher education</td>\n",
              "      <td>Married</td>\n",
              "      <td>House / apartment</td>\n",
              "      <td>...</td>\n",
              "      <td>-586</td>\n",
              "      <td>1</td>\n",
              "      <td>1</td>\n",
              "      <td>1</td>\n",
              "      <td>0</td>\n",
              "      <td>Not Specified</td>\n",
              "      <td>2</td>\n",
              "      <td>1</td>\n",
              "      <td>high</td>\n",
              "      <td>middle_age</td>\n",
              "    </tr>\n",
              "    <tr>\n",
              "      <th>2</th>\n",
              "      <td>5009746</td>\n",
              "      <td>F</td>\n",
              "      <td>Y</td>\n",
              "      <td>N</td>\n",
              "      <td>0</td>\n",
              "      <td>315000.00</td>\n",
              "      <td>Commercial associate</td>\n",
              "      <td>Higher education</td>\n",
              "      <td>Married</td>\n",
              "      <td>House / apartment</td>\n",
              "      <td>...</td>\n",
              "      <td>-586</td>\n",
              "      <td>1</td>\n",
              "      <td>1</td>\n",
              "      <td>1</td>\n",
              "      <td>0</td>\n",
              "      <td>Not Specified</td>\n",
              "      <td>2</td>\n",
              "      <td>1</td>\n",
              "      <td>high</td>\n",
              "      <td>middle_age</td>\n",
              "    </tr>\n",
              "    <tr>\n",
              "      <th>3</th>\n",
              "      <td>5009752</td>\n",
              "      <td>F</td>\n",
              "      <td>Y</td>\n",
              "      <td>N</td>\n",
              "      <td>0</td>\n",
              "      <td>315000.00</td>\n",
              "      <td>Commercial associate</td>\n",
              "      <td>Higher education</td>\n",
              "      <td>Married</td>\n",
              "      <td>House / apartment</td>\n",
              "      <td>...</td>\n",
              "      <td>-586</td>\n",
              "      <td>1</td>\n",
              "      <td>1</td>\n",
              "      <td>1</td>\n",
              "      <td>0</td>\n",
              "      <td>Not Specified</td>\n",
              "      <td>2</td>\n",
              "      <td>1</td>\n",
              "      <td>high</td>\n",
              "      <td>middle_age</td>\n",
              "    </tr>\n",
              "    <tr>\n",
              "      <th>4</th>\n",
              "      <td>5009753</td>\n",
              "      <td>F</td>\n",
              "      <td>Y</td>\n",
              "      <td>N</td>\n",
              "      <td>0</td>\n",
              "      <td>315000.00</td>\n",
              "      <td>Pensioner</td>\n",
              "      <td>Higher education</td>\n",
              "      <td>Married</td>\n",
              "      <td>House / apartment</td>\n",
              "      <td>...</td>\n",
              "      <td>-586</td>\n",
              "      <td>1</td>\n",
              "      <td>1</td>\n",
              "      <td>1</td>\n",
              "      <td>0</td>\n",
              "      <td>Not Specified</td>\n",
              "      <td>2</td>\n",
              "      <td>1</td>\n",
              "      <td>high</td>\n",
              "      <td>middle_age</td>\n",
              "    </tr>\n",
              "  </tbody>\n",
              "</table>\n",
              "<p>5 rows × 21 columns</p>\n",
              "</div>"
            ],
            "text/plain": [
              "    Ind_ID GENDER Car_Owner Propert_Owner  CHILDREN  Annual_income  \\\n",
              "0  5008827      M         Y             Y         0      180000.00   \n",
              "1  5009744      F         Y             N         0      315000.00   \n",
              "2  5009746      F         Y             N         0      315000.00   \n",
              "3  5009752      F         Y             N         0      315000.00   \n",
              "4  5009753      F         Y             N         0      315000.00   \n",
              "\n",
              "            Type_Income         EDUCATION Marital_status       Housing_type  \\\n",
              "0             Pensioner  Higher education        Married  House / apartment   \n",
              "1  Commercial associate  Higher education        Married  House / apartment   \n",
              "2  Commercial associate  Higher education        Married  House / apartment   \n",
              "3  Commercial associate  Higher education        Married  House / apartment   \n",
              "4             Pensioner  Higher education        Married  House / apartment   \n",
              "\n",
              "   ...  Employed_days  Mobile_phone  Work_Phone  Phone  EMAIL_ID  \\\n",
              "0  ...              0             1           0      0         0   \n",
              "1  ...           -586             1           1      1         0   \n",
              "2  ...           -586             1           1      1         0   \n",
              "3  ...           -586             1           1      1         0   \n",
              "4  ...           -586             1           1      1         0   \n",
              "\n",
              "   Type_Occupation Family_Members  label  Income_Range   Age_group  \n",
              "0    Not Specified              2      1        medium  middle_age  \n",
              "1    Not Specified              2      1          high  middle_age  \n",
              "2    Not Specified              2      1          high  middle_age  \n",
              "3    Not Specified              2      1          high  middle_age  \n",
              "4    Not Specified              2      1          high  middle_age  \n",
              "\n",
              "[5 rows x 21 columns]"
            ]
          },
          "execution_count": 90,
          "metadata": {},
          "output_type": "execute_result"
        }
      ],
      "source": [
        "merged_data.head()"
      ]
    },
    {
      "cell_type": "code",
      "execution_count": null,
      "id": "0deec6b6",
      "metadata": {
        "id": "0deec6b6",
        "outputId": "72eb3e90-5f8d-46f8-fd65-627b8a254199"
      },
      "outputs": [
        {
          "data": {
            "text/plain": [
              "middle_age        915\n",
              "young             379\n",
              "senior_citizen    140\n",
              "very_young         39\n",
              "Name: Age_group, dtype: int64"
            ]
          },
          "execution_count": 91,
          "metadata": {},
          "output_type": "execute_result"
        }
      ],
      "source": [
        "merged_data.Age_group.value_counts()"
      ]
    },
    {
      "cell_type": "code",
      "execution_count": null,
      "id": "4936fa81",
      "metadata": {
        "scrolled": true,
        "id": "4936fa81",
        "outputId": "eddd991e-059e-4443-e022-2e3597b4fa12"
      },
      "outputs": [
        {
          "data": {
            "image/png": "[encoded data removed]",
            "text/plain": [
              "<Figure size 720x504 with 1 Axes>"
            ]
          },
          "metadata": {
            "needs_background": "light"
          },
          "output_type": "display_data"
        }
      ],
      "source": [
        "plt.figure(figsize=(10,7))\n",
        "sns.countplot(merged_data.Age_group)\n",
        "plt.show()"
      ]
    },
    {
      "cell_type": "code",
      "execution_count": null,
      "id": "611f0190",
      "metadata": {
        "id": "611f0190"
      },
      "outputs": [],
      "source": [
        "\n"
      ]
    },
    {
      "cell_type": "code",
      "execution_count": null,
      "id": "9770e1e6",
      "metadata": {
        "id": "9770e1e6",
        "outputId": "cad79f43-240c-4674-c0cc-d571b2b5148d"
      },
      "outputs": [
        {
          "data": {
            "image/png": "[encoded data removed]",
            "text/plain": [
              "<Figure size 576x576 with 1 Axes>"
            ]
          },
          "metadata": {},
          "output_type": "display_data"
        }
      ],
      "source": [
        "\n",
        "\n",
        "plt.figure(figsize = (8,8))\n",
        "plt.pie(merged_data['Age_group'].value_counts(), labels=merged_data['Age_group'].value_counts().index, autopct='%1.2f%%')\n",
        "plt.title('% of Applications submitted based on Age_group')\n",
        "plt.legend()\n",
        "plt.show()"
      ]
    },
    {
      "cell_type": "markdown",
      "id": "125a67ba",
      "metadata": {
        "id": "125a67ba"
      },
      "source": [
        "#### Observations\n",
        "\n",
        "Above figure shows that majority of the clients are from middle_age and least clients are from very_young age"
      ]
    },
    {
      "cell_type": "code",
      "execution_count": null,
      "id": "254c3c18",
      "metadata": {
        "id": "254c3c18"
      },
      "outputs": [],
      "source": []
    },
    {
      "cell_type": "markdown",
      "id": "d49a7dce",
      "metadata": {
        "id": "d49a7dce"
      },
      "source": [
        " checking column GENDER"
      ]
    },
    {
      "cell_type": "code",
      "execution_count": null,
      "id": "0530b5a4",
      "metadata": {
        "id": "0530b5a4",
        "outputId": "16629a6a-1fb9-4c2f-9e1f-6a12b20da00e"
      },
      "outputs": [
        {
          "data": {
            "image/png": "[encoded data removed]",
            "text/plain": [
              "<Figure size 720x504 with 1 Axes>"
            ]
          },
          "metadata": {
            "needs_background": "light"
          },
          "output_type": "display_data"
        }
      ],
      "source": [
        "plt.figure(figsize=(10,7))\n",
        "sns.countplot(merged_data.GENDER)\n",
        "plt.show()"
      ]
    },
    {
      "cell_type": "code",
      "execution_count": null,
      "id": "add654d8",
      "metadata": {
        "id": "add654d8",
        "outputId": "103544a1-f724-4429-8dd2-cb31e75981cf"
      },
      "outputs": [
        {
          "data": {
            "image/png": "[encoded data removed]",
            "text/plain": [
              "<Figure size 720x504 with 1 Axes>"
            ]
          },
          "metadata": {},
          "output_type": "display_data"
        }
      ],
      "source": [
        "plt.figure(figsize=(10,7))\n",
        "plt.pie(merged_data.GENDER.value_counts() , labels= [\"Female\",\"Male\"], autopct='%1.2f%%')\n",
        "plt.title('% of Applications submitted based on Gender')\n",
        "plt.legend()\n",
        "plt.show()"
      ]
    },
    {
      "cell_type": "markdown",
      "id": "dfb8d736",
      "metadata": {
        "id": "dfb8d736"
      },
      "source": [
        "#### Observations\n",
        "\n",
        "Above figure shows that majority of the clients who submitted application are Females"
      ]
    },
    {
      "cell_type": "code",
      "execution_count": null,
      "id": "906e8bf3",
      "metadata": {
        "id": "906e8bf3",
        "outputId": "dc771b09-7ff4-469f-f555-f1691a66a824"
      },
      "outputs": [
        {
          "data": {
            "image/png": "[encoded data removed]",
            "text/plain": [
              "<Figure size 720x504 with 1 Axes>"
            ]
          },
          "metadata": {},
          "output_type": "display_data"
        }
      ],
      "source": [
        "plt.figure(figsize=(10,7))\n",
        "plt.pie(merged_data[merged_data['label']==1]['GENDER'].value_counts() , labels= [\"Female\",\"Male\"], autopct='%1.2f%%')\n",
        "plt.title('% of Applications approved based on Gender')\n",
        "plt.legend()\n",
        "plt.show()"
      ]
    },
    {
      "cell_type": "markdown",
      "id": "2e214c72",
      "metadata": {
        "id": "2e214c72"
      },
      "source": [
        "#### Observations\n",
        "\n",
        "This graph shows that, majority of application are approved for Females\n"
      ]
    },
    {
      "cell_type": "code",
      "execution_count": null,
      "id": "7cc058c1",
      "metadata": {
        "id": "7cc058c1"
      },
      "outputs": [],
      "source": []
    },
    {
      "cell_type": "code",
      "execution_count": null,
      "id": "0289ab1e",
      "metadata": {
        "id": "0289ab1e"
      },
      "outputs": [],
      "source": [
        "# Checking column Car_Owner"
      ]
    },
    {
      "cell_type": "code",
      "execution_count": null,
      "id": "ffe6b465",
      "metadata": {
        "id": "ffe6b465",
        "outputId": "ce6c90bf-c6b3-4c07-a393-ad853cce20ca"
      },
      "outputs": [
        {
          "data": {
            "text/plain": [
              "array(['Y', 'N'], dtype=object)"
            ]
          },
          "execution_count": 98,
          "metadata": {},
          "output_type": "execute_result"
        }
      ],
      "source": [
        "merged_data.Car_Owner.unique()"
      ]
    },
    {
      "cell_type": "code",
      "execution_count": null,
      "id": "38e9aa66",
      "metadata": {
        "id": "38e9aa66",
        "outputId": "ddc2f23e-15fa-465b-a111-716bd66fd954"
      },
      "outputs": [
        {
          "data": {
            "image/png": "[encoded data removed]",
            "text/plain": [
              "<Figure size 432x432 with 1 Axes>"
            ]
          },
          "metadata": {},
          "output_type": "display_data"
        }
      ],
      "source": [
        "plt.figure(figsize = (6,6))\n",
        "plt.pie(merged_data['Car_Owner'].value_counts(), labels=merged_data['Car_Owner'].value_counts().index, autopct='%1.2f%%')\n",
        "plt.title('% of Applications submitted based on Car_Owner')\n",
        "plt.legend()\n",
        "plt.show()"
      ]
    },
    {
      "cell_type": "code",
      "execution_count": null,
      "id": "e54b1a53",
      "metadata": {
        "id": "e54b1a53",
        "outputId": "ea8a72c2-25ad-4551-cdbc-41c7709169af"
      },
      "outputs": [
        {
          "data": {
            "image/png": "[encoded data removed]",
            "text/plain": [
              "<Figure size 720x504 with 1 Axes>"
            ]
          },
          "metadata": {},
          "output_type": "display_data"
        }
      ],
      "source": [
        "plt.figure(figsize=(10,7))\n",
        "plt.pie(merged_data[merged_data['label']==1]['Car_Owner'].value_counts() , labels= [\"Yes\",\"No\"], autopct='%1.2f%%')\n",
        "plt.title('% of Applications approved based on Car_Owner')\n",
        "plt.legend()\n",
        "plt.show()"
      ]
    },
    {
      "cell_type": "markdown",
      "id": "1eaec19b",
      "metadata": {
        "id": "1eaec19b"
      },
      "source": [
        "#### Observations\n",
        "\n",
        "This graph shows that, majority of application are approved were car owners\n"
      ]
    },
    {
      "cell_type": "code",
      "execution_count": null,
      "id": "b133c0dd",
      "metadata": {
        "id": "b133c0dd"
      },
      "outputs": [],
      "source": []
    },
    {
      "cell_type": "markdown",
      "id": "e766afc6",
      "metadata": {
        "id": "e766afc6"
      },
      "source": [
        "Checking Column Propert_Owner"
      ]
    },
    {
      "cell_type": "code",
      "execution_count": null,
      "id": "23cb32b3",
      "metadata": {
        "id": "23cb32b3",
        "outputId": "cd03a3f0-3132-4e36-8ea6-42c841b7751d"
      },
      "outputs": [
        {
          "data": {
            "text/plain": [
              "array(['Y', 'N'], dtype=object)"
            ]
          },
          "execution_count": 101,
          "metadata": {},
          "output_type": "execute_result"
        }
      ],
      "source": [
        "merged_data.Propert_Owner.unique()"
      ]
    },
    {
      "cell_type": "code",
      "execution_count": null,
      "id": "c49d2bf4",
      "metadata": {
        "id": "c49d2bf4",
        "outputId": "c3e952de-f53f-4864-e49c-ef4e008646ca"
      },
      "outputs": [
        {
          "data": {
            "image/png": "[encoded data removed]",
            "text/plain": [
              "<Figure size 432x432 with 1 Axes>"
            ]
          },
          "metadata": {},
          "output_type": "display_data"
        }
      ],
      "source": [
        "plt.figure(figsize = (6,6))\n",
        "plt.pie(merged_data['Propert_Owner'].value_counts(), labels=merged_data['Propert_Owner'].value_counts().index, autopct='%1.2f%%')\n",
        "plt.title('% of Applications submitted based on Propert_Owner')\n",
        "plt.legend()\n",
        "plt.show()"
      ]
    },
    {
      "cell_type": "code",
      "execution_count": null,
      "id": "75451f5b",
      "metadata": {
        "id": "75451f5b",
        "outputId": "3af87313-cc0b-40a9-839d-9c2e6ea87319"
      },
      "outputs": [
        {
          "data": {
            "image/png": "[encoded data removed]",
            "text/plain": [
              "<Figure size 720x504 with 1 Axes>"
            ]
          },
          "metadata": {},
          "output_type": "display_data"
        }
      ],
      "source": [
        "plt.figure(figsize=(10,7))\n",
        "plt.pie(merged_data[merged_data['label']==1]['Propert_Owner'].value_counts() , labels= [\"Yes\",\"No\"], autopct='%1.2f%%')\n",
        "plt.title('% of Applications approved based on Propert_Owner')\n",
        "plt.show()"
      ]
    },
    {
      "cell_type": "markdown",
      "id": "71d450da",
      "metadata": {
        "id": "71d450da"
      },
      "source": [
        "#### Observations\n",
        "\n",
        "This graph shows that, majority of application are approved for clients  owns property.\n"
      ]
    },
    {
      "cell_type": "code",
      "execution_count": null,
      "id": "debdd148",
      "metadata": {
        "id": "debdd148"
      },
      "outputs": [],
      "source": []
    },
    {
      "cell_type": "markdown",
      "id": "1ddb074a",
      "metadata": {
        "id": "1ddb074a"
      },
      "source": [
        "Checking Column CHILDREN"
      ]
    },
    {
      "cell_type": "code",
      "execution_count": null,
      "id": "bbd32707",
      "metadata": {
        "id": "bbd32707",
        "outputId": "de4ff0ac-61e4-478d-b1ff-14aff7960234"
      },
      "outputs": [
        {
          "data": {
            "image/png": "[encoded data removed]",
            "text/plain": [
              "<Figure size 576x576 with 1 Axes>"
            ]
          },
          "metadata": {},
          "output_type": "display_data"
        }
      ],
      "source": [
        "plt.figure(figsize = (8,8))\n",
        "plt.pie(merged_data['CHILDREN'].value_counts(), labels=merged_data['CHILDREN'].value_counts().index, autopct='%1.2f%%')\n",
        "plt.title('% of Applications submitted based on Children count')\n",
        "plt.legend()\n",
        "plt.show()"
      ]
    },
    {
      "cell_type": "code",
      "execution_count": null,
      "id": "8b62dfb2",
      "metadata": {
        "id": "8b62dfb2"
      },
      "outputs": [],
      "source": []
    },
    {
      "cell_type": "markdown",
      "id": "b74358b4",
      "metadata": {
        "id": "b74358b4"
      },
      "source": [
        "#### Observations\n",
        "\n",
        "This graph shows that, majority of clients who submitted application  have 0 children"
      ]
    },
    {
      "cell_type": "code",
      "execution_count": null,
      "id": "177063c5",
      "metadata": {
        "id": "177063c5"
      },
      "outputs": [],
      "source": []
    },
    {
      "cell_type": "markdown",
      "id": "bec1c2e6",
      "metadata": {
        "id": "bec1c2e6"
      },
      "source": [
        "Checking Column Type_Income"
      ]
    },
    {
      "cell_type": "code",
      "execution_count": null,
      "id": "c8de34f6",
      "metadata": {
        "id": "c8de34f6",
        "outputId": "e04880f0-2755-47c3-d6b2-0f4c862b3ed9"
      },
      "outputs": [
        {
          "data": {
            "image/png": "[encoded data removed]",
            "text/plain": [
              "<Figure size 576x576 with 1 Axes>"
            ]
          },
          "metadata": {},
          "output_type": "display_data"
        }
      ],
      "source": [
        "plt.figure(figsize = (8,8))\n",
        "plt.pie(merged_data['Type_Income'].value_counts(), labels=merged_data['Type_Income'].value_counts().index, autopct='%1.2f%%')\n",
        "plt.title('% of Applications submitted based on  Type_Income')\n",
        "plt.legend()\n",
        "plt.show()"
      ]
    },
    {
      "cell_type": "code",
      "execution_count": null,
      "id": "ce4b660a",
      "metadata": {
        "id": "ce4b660a"
      },
      "outputs": [],
      "source": []
    },
    {
      "cell_type": "markdown",
      "id": "fd147cd1",
      "metadata": {
        "id": "fd147cd1"
      },
      "source": [
        "#### Observations\n",
        "\n",
        "This graph shows that, majority of application are submitted falls under \"Working Category\""
      ]
    },
    {
      "cell_type": "code",
      "execution_count": null,
      "id": "1baa1f0b",
      "metadata": {
        "id": "1baa1f0b"
      },
      "outputs": [],
      "source": []
    },
    {
      "cell_type": "markdown",
      "id": "f4214454",
      "metadata": {
        "id": "f4214454"
      },
      "source": [
        "Checking Column EDUCATION"
      ]
    },
    {
      "cell_type": "code",
      "execution_count": null,
      "id": "b8267ced",
      "metadata": {
        "id": "b8267ced",
        "outputId": "693251d8-c6e5-4d6c-f3ba-0dfc43ba341c"
      },
      "outputs": [
        {
          "data": {
            "image/png": "[encoded data removed]",
            "text/plain": [
              "<Figure size 576x576 with 1 Axes>"
            ]
          },
          "metadata": {},
          "output_type": "display_data"
        }
      ],
      "source": [
        "plt.figure(figsize = (8,8))\n",
        "plt.pie(merged_data['EDUCATION'].value_counts(), labels=merged_data['EDUCATION'].value_counts().index, autopct='%1.2f%%')\n",
        "plt.title('% of Applications submitted based on  EDUCATION')\n",
        "plt.legend()\n",
        "plt.show()"
      ]
    },
    {
      "cell_type": "markdown",
      "id": "52cca626",
      "metadata": {
        "id": "52cca626"
      },
      "source": [
        "#### Observations\n",
        "\n",
        "This graph shows that, majority of application are submitted falls under \"Secondary / secondary special \""
      ]
    },
    {
      "cell_type": "code",
      "execution_count": null,
      "id": "f5ebd7cc",
      "metadata": {
        "id": "f5ebd7cc",
        "outputId": "2b5489dd-9ed2-4dea-8976-be3ea36de082"
      },
      "outputs": [
        {
          "data": {
            "text/plain": [
              "Index(['Ind_ID', 'GENDER', 'Car_Owner', 'Propert_Owner', 'CHILDREN',\n",
              "       'Annual_income', 'Type_Income', 'EDUCATION', 'Marital_status',\n",
              "       'Housing_type', 'AGE_YEARS', 'Employed_days', 'Mobile_phone',\n",
              "       'Work_Phone', 'Phone', 'EMAIL_ID', 'Type_Occupation', 'Family_Members',\n",
              "       'label', 'Income_Range', 'Age_group'],\n",
              "      dtype='object')"
            ]
          },
          "execution_count": 107,
          "metadata": {},
          "output_type": "execute_result"
        }
      ],
      "source": [
        "merged_data.columns"
      ]
    },
    {
      "cell_type": "markdown",
      "id": "440befb3",
      "metadata": {
        "id": "440befb3"
      },
      "source": [
        "Checking column Marital_status"
      ]
    },
    {
      "cell_type": "code",
      "execution_count": null,
      "id": "ea8acd93",
      "metadata": {
        "id": "ea8acd93",
        "outputId": "f0545133-f274-4c6e-8f75-e3320a4bb520"
      },
      "outputs": [
        {
          "data": {
            "image/png": "[encoded data removed]",
            "text/plain": [
              "<Figure size 576x576 with 1 Axes>"
            ]
          },
          "metadata": {},
          "output_type": "display_data"
        }
      ],
      "source": [
        "plt.figure(figsize = (8,8))\n",
        "plt.pie(merged_data['Marital_status'].value_counts(), labels=merged_data['Marital_status'].value_counts().index, autopct='%1.2f%%')\n",
        "plt.title('% of Applications submitted based on  Marital_status')\n",
        "plt.legend()\n",
        "plt.show()"
      ]
    },
    {
      "cell_type": "markdown",
      "id": "3958ed45",
      "metadata": {
        "id": "3958ed45"
      },
      "source": [
        "#### Observations\n",
        "\n",
        "This graph shows that, majority of application are submitted were \"Married\""
      ]
    },
    {
      "cell_type": "code",
      "execution_count": null,
      "id": "3aa59898",
      "metadata": {
        "id": "3aa59898"
      },
      "outputs": [],
      "source": []
    },
    {
      "cell_type": "markdown",
      "id": "d8b3095c",
      "metadata": {
        "id": "d8b3095c"
      },
      "source": [
        "checking column Housing_type"
      ]
    },
    {
      "cell_type": "code",
      "execution_count": null,
      "id": "a5f06714",
      "metadata": {
        "id": "a5f06714",
        "outputId": "6be672ed-66c3-4a8e-dd74-dd7960571049"
      },
      "outputs": [
        {
          "data": {
            "image/png": "[encoded data removed]",
            "text/plain": [
              "<Figure size 576x576 with 1 Axes>"
            ]
          },
          "metadata": {},
          "output_type": "display_data"
        }
      ],
      "source": [
        "\n",
        "plt.figure(figsize = (8,8))\n",
        "plt.pie(merged_data['Housing_type'].value_counts(), labels=merged_data['Housing_type'].value_counts().index, autopct='%1.2f%%')\n",
        "plt.title('% of Applications submitted based on  Housing_type')\n",
        "plt.legend()\n",
        "plt.show()"
      ]
    },
    {
      "cell_type": "markdown",
      "id": "42b8fdc3",
      "metadata": {
        "id": "42b8fdc3"
      },
      "source": [
        "Observations\n",
        "\n",
        "This graph shows that, majority of clients who submitted application   owns \"House / apartment\""
      ]
    },
    {
      "cell_type": "markdown",
      "id": "77a12146",
      "metadata": {
        "id": "77a12146"
      },
      "source": [
        "Checking Employed_days"
      ]
    },
    {
      "cell_type": "code",
      "execution_count": null,
      "id": "d3cffac1",
      "metadata": {
        "id": "d3cffac1",
        "outputId": "76efb8e5-d61a-48c6-a3b1-ec248176b623"
      },
      "outputs": [
        {
          "data": {
            "text/plain": [
              "<seaborn.axisgrid.FacetGrid at 0x21eca11ef10>"
            ]
          },
          "execution_count": 110,
          "metadata": {},
          "output_type": "execute_result"
        },
        {
          "data": {
            "image/png": "[encoded data removed]",
            "text/plain": [
              "<Figure size 360x360 with 1 Axes>"
            ]
          },
          "metadata": {
            "needs_background": "light"
          },
          "output_type": "display_data"
        }
      ],
      "source": [
        "\n",
        "sns.displot(merged_data['Employed_days'])"
      ]
    },
    {
      "cell_type": "code",
      "execution_count": null,
      "id": "dafee14d",
      "metadata": {
        "id": "dafee14d",
        "outputId": "947f669e-0e73-4b7f-aac9-05b47ec5d979"
      },
      "outputs": [
        {
          "data": {
            "text/plain": [
              "count     1473.00\n",
              "mean     -2245.69\n",
              "std       2435.23\n",
              "min     -14887.00\n",
              "25%      -3202.00\n",
              "50%      -1587.00\n",
              "75%       -424.00\n",
              "max          0.00\n",
              "Name: Employed_days, dtype: float64"
            ]
          },
          "execution_count": 111,
          "metadata": {},
          "output_type": "execute_result"
        }
      ],
      "source": [
        "# Binning contunuous variable  Employed_days\n",
        "\n",
        "merged_data.Employed_days.describe()"
      ]
    },
    {
      "cell_type": "code",
      "execution_count": null,
      "id": "3890c949",
      "metadata": {
        "id": "3890c949"
      },
      "outputs": [],
      "source": [
        "merged_data.Employed_days= round(merged_data.Employed_days/-365, 0)\n",
        "\n",
        "merged_data.rename(columns={'Employed_days':'Years_Employed'}, inplace=True)\n"
      ]
    },
    {
      "cell_type": "code",
      "execution_count": null,
      "id": "6c111a19",
      "metadata": {
        "id": "6c111a19"
      },
      "outputs": [],
      "source": []
    },
    {
      "cell_type": "code",
      "execution_count": null,
      "id": "e47005bd",
      "metadata": {
        "id": "e47005bd",
        "outputId": "869cd6b0-7661-4c5b-89e0-580439bc191e"
      },
      "outputs": [
        {
          "data": {
            "image/png": "[encoded data removed]",
            "text/plain": [
              "<Figure size 432x288 with 1 Axes>"
            ]
          },
          "metadata": {
            "needs_background": "light"
          },
          "output_type": "display_data"
        }
      ],
      "source": [
        "sns.boxplot(merged_data.Years_Employed)\n",
        "plt.show()"
      ]
    },
    {
      "cell_type": "code",
      "execution_count": null,
      "id": "b35ff265",
      "metadata": {
        "id": "b35ff265",
        "outputId": "89ff703a-8880-48a2-c9fe-1aedd1663723"
      },
      "outputs": [
        {
          "data": {
            "text/html": [
              "<div>\n",
              "<style scoped>\n",
              "    .dataframe tbody tr th:only-of-type {\n",
              "        vertical-align: middle;\n",
              "    }\n",
              "\n",
              "    .dataframe tbody tr th {\n",
              "        vertical-align: top;\n",
              "    }\n",
              "\n",
              "    .dataframe thead th {\n",
              "        text-align: right;\n",
              "    }\n",
              "</style>\n",
              "<table border=\"1\" class=\"dataframe\">\n",
              "  <thead>\n",
              "    <tr style=\"text-align: right;\">\n",
              "      <th></th>\n",
              "      <th>Ind_ID</th>\n",
              "      <th>GENDER</th>\n",
              "      <th>Car_Owner</th>\n",
              "      <th>Propert_Owner</th>\n",
              "      <th>CHILDREN</th>\n",
              "      <th>Annual_income</th>\n",
              "      <th>Type_Income</th>\n",
              "      <th>EDUCATION</th>\n",
              "      <th>Marital_status</th>\n",
              "      <th>Housing_type</th>\n",
              "      <th>...</th>\n",
              "      <th>Years_Employed</th>\n",
              "      <th>Mobile_phone</th>\n",
              "      <th>Work_Phone</th>\n",
              "      <th>Phone</th>\n",
              "      <th>EMAIL_ID</th>\n",
              "      <th>Type_Occupation</th>\n",
              "      <th>Family_Members</th>\n",
              "      <th>label</th>\n",
              "      <th>Income_Range</th>\n",
              "      <th>Age_group</th>\n",
              "    </tr>\n",
              "  </thead>\n",
              "  <tbody>\n",
              "    <tr>\n",
              "      <th>0</th>\n",
              "      <td>5008827</td>\n",
              "      <td>M</td>\n",
              "      <td>Y</td>\n",
              "      <td>Y</td>\n",
              "      <td>0</td>\n",
              "      <td>180000.00</td>\n",
              "      <td>Pensioner</td>\n",
              "      <td>Higher education</td>\n",
              "      <td>Married</td>\n",
              "      <td>House / apartment</td>\n",
              "      <td>...</td>\n",
              "      <td>-0.00</td>\n",
              "      <td>1</td>\n",
              "      <td>0</td>\n",
              "      <td>0</td>\n",
              "      <td>0</td>\n",
              "      <td>Not Specified</td>\n",
              "      <td>2</td>\n",
              "      <td>1</td>\n",
              "      <td>medium</td>\n",
              "      <td>middle_age</td>\n",
              "    </tr>\n",
              "    <tr>\n",
              "      <th>1</th>\n",
              "      <td>5009744</td>\n",
              "      <td>F</td>\n",
              "      <td>Y</td>\n",
              "      <td>N</td>\n",
              "      <td>0</td>\n",
              "      <td>315000.00</td>\n",
              "      <td>Commercial associate</td>\n",
              "      <td>Higher education</td>\n",
              "      <td>Married</td>\n",
              "      <td>House / apartment</td>\n",
              "      <td>...</td>\n",
              "      <td>2.00</td>\n",
              "      <td>1</td>\n",
              "      <td>1</td>\n",
              "      <td>1</td>\n",
              "      <td>0</td>\n",
              "      <td>Not Specified</td>\n",
              "      <td>2</td>\n",
              "      <td>1</td>\n",
              "      <td>high</td>\n",
              "      <td>middle_age</td>\n",
              "    </tr>\n",
              "    <tr>\n",
              "      <th>2</th>\n",
              "      <td>5009746</td>\n",
              "      <td>F</td>\n",
              "      <td>Y</td>\n",
              "      <td>N</td>\n",
              "      <td>0</td>\n",
              "      <td>315000.00</td>\n",
              "      <td>Commercial associate</td>\n",
              "      <td>Higher education</td>\n",
              "      <td>Married</td>\n",
              "      <td>House / apartment</td>\n",
              "      <td>...</td>\n",
              "      <td>2.00</td>\n",
              "      <td>1</td>\n",
              "      <td>1</td>\n",
              "      <td>1</td>\n",
              "      <td>0</td>\n",
              "      <td>Not Specified</td>\n",
              "      <td>2</td>\n",
              "      <td>1</td>\n",
              "      <td>high</td>\n",
              "      <td>middle_age</td>\n",
              "    </tr>\n",
              "    <tr>\n",
              "      <th>3</th>\n",
              "      <td>5009752</td>\n",
              "      <td>F</td>\n",
              "      <td>Y</td>\n",
              "      <td>N</td>\n",
              "      <td>0</td>\n",
              "      <td>315000.00</td>\n",
              "      <td>Commercial associate</td>\n",
              "      <td>Higher education</td>\n",
              "      <td>Married</td>\n",
              "      <td>House / apartment</td>\n",
              "      <td>...</td>\n",
              "      <td>2.00</td>\n",
              "      <td>1</td>\n",
              "      <td>1</td>\n",
              "      <td>1</td>\n",
              "      <td>0</td>\n",
              "      <td>Not Specified</td>\n",
              "      <td>2</td>\n",
              "      <td>1</td>\n",
              "      <td>high</td>\n",
              "      <td>middle_age</td>\n",
              "    </tr>\n",
              "    <tr>\n",
              "      <th>4</th>\n",
              "      <td>5009753</td>\n",
              "      <td>F</td>\n",
              "      <td>Y</td>\n",
              "      <td>N</td>\n",
              "      <td>0</td>\n",
              "      <td>315000.00</td>\n",
              "      <td>Pensioner</td>\n",
              "      <td>Higher education</td>\n",
              "      <td>Married</td>\n",
              "      <td>House / apartment</td>\n",
              "      <td>...</td>\n",
              "      <td>2.00</td>\n",
              "      <td>1</td>\n",
              "      <td>1</td>\n",
              "      <td>1</td>\n",
              "      <td>0</td>\n",
              "      <td>Not Specified</td>\n",
              "      <td>2</td>\n",
              "      <td>1</td>\n",
              "      <td>high</td>\n",
              "      <td>middle_age</td>\n",
              "    </tr>\n",
              "  </tbody>\n",
              "</table>\n",
              "<p>5 rows × 21 columns</p>\n",
              "</div>"
            ],
            "text/plain": [
              "    Ind_ID GENDER Car_Owner Propert_Owner  CHILDREN  Annual_income  \\\n",
              "0  5008827      M         Y             Y         0      180000.00   \n",
              "1  5009744      F         Y             N         0      315000.00   \n",
              "2  5009746      F         Y             N         0      315000.00   \n",
              "3  5009752      F         Y             N         0      315000.00   \n",
              "4  5009753      F         Y             N         0      315000.00   \n",
              "\n",
              "            Type_Income         EDUCATION Marital_status       Housing_type  \\\n",
              "0             Pensioner  Higher education        Married  House / apartment   \n",
              "1  Commercial associate  Higher education        Married  House / apartment   \n",
              "2  Commercial associate  Higher education        Married  House / apartment   \n",
              "3  Commercial associate  Higher education        Married  House / apartment   \n",
              "4             Pensioner  Higher education        Married  House / apartment   \n",
              "\n",
              "   ...  Years_Employed  Mobile_phone  Work_Phone  Phone  EMAIL_ID  \\\n",
              "0  ...           -0.00             1           0      0         0   \n",
              "1  ...            2.00             1           1      1         0   \n",
              "2  ...            2.00             1           1      1         0   \n",
              "3  ...            2.00             1           1      1         0   \n",
              "4  ...            2.00             1           1      1         0   \n",
              "\n",
              "   Type_Occupation Family_Members  label  Income_Range   Age_group  \n",
              "0    Not Specified              2      1        medium  middle_age  \n",
              "1    Not Specified              2      1          high  middle_age  \n",
              "2    Not Specified              2      1          high  middle_age  \n",
              "3    Not Specified              2      1          high  middle_age  \n",
              "4    Not Specified              2      1          high  middle_age  \n",
              "\n",
              "[5 rows x 21 columns]"
            ]
          },
          "execution_count": 120,
          "metadata": {},
          "output_type": "execute_result"
        }
      ],
      "source": [
        "# Above boxplot shows outliers are present, hence dropping  Years_Employed >30\n",
        "\n",
        "merged_data= merged_data[~(merged_data.Years_Employed>30)]\n",
        "merged_data.head()"
      ]
    },
    {
      "cell_type": "code",
      "execution_count": null,
      "id": "1e68628c",
      "metadata": {
        "id": "1e68628c",
        "outputId": "725cdb72-ef68-4121-b3e6-ed054b53c8d6"
      },
      "outputs": [
        {
          "data": {
            "image/png": "[encoded data removed]",
            "text/plain": [
              "<Figure size 576x576 with 1 Axes>"
            ]
          },
          "metadata": {
            "needs_background": "light"
          },
          "output_type": "display_data"
        }
      ],
      "source": [
        "plt.figure(figsize = (8,8))\n",
        "sns.boxplot(merged_data.Years_Employed)\n",
        "plt.show()"
      ]
    },
    {
      "cell_type": "code",
      "execution_count": null,
      "id": "bf490551",
      "metadata": {
        "id": "bf490551",
        "outputId": "60ab949e-d8a4-43e6-983c-18a8a6ebb709"
      },
      "outputs": [
        {
          "data": {
            "image/png": "[encoded data removed]",
            "text/plain": [
              "<Figure size 576x576 with 1 Axes>"
            ]
          },
          "metadata": {
            "needs_background": "light"
          },
          "output_type": "display_data"
        }
      ],
      "source": [
        "\n",
        "plt.figure(figsize = (8,8))\n",
        "sns.scatterplot(merged_data['Years_Employed'], merged_data['Annual_income'], hue=merged_data['label'])\n",
        "plt.title('Scatter Plot')\n",
        "plt.show()"
      ]
    },
    {
      "cell_type": "markdown",
      "id": "2e9867b2",
      "metadata": {
        "id": "2e9867b2"
      },
      "source": [
        "#### Observations\n",
        "\n",
        "Obove graph shows that, majority of applications are rejected if Total income & years of Employment is less\n"
      ]
    },
    {
      "cell_type": "code",
      "execution_count": null,
      "id": "a10ef602",
      "metadata": {
        "id": "a10ef602"
      },
      "outputs": [],
      "source": [
        "##Section 1: Questions to Answer\n",
        "\n",
        "1.## Why is your proposal important in today’s world? How predicting a good client is worthy for a bank\n",
        "\n",
        "In today's world proposal is very important in every aspects. It helps you make important decisions on things like cash flow, marketing and personnel. \n",
        "It clearly defines goals and objectives and enables us to monitor the business’s performance and make adjustments as we move forward. \n",
        "It will help us to identify your strengths and weaknesses.\n",
        "\n",
        "In today's world due to many innovations and growing techonologies the count of scam has been increased alot. The banking sector is no stranger to fraud. With increased digitization,\n",
        "the number and value of frauds in banking have gone up exponentially.\n",
        "So predicting a good client is always worthy for a bank. Means it helps bank to distinguish between a good customer and bad customers."
      ]
    },
    {
      "cell_type": "code",
      "source": [
        "##2.How is it going to impact the banking sector?\n",
        "By proposal the bank will have collective relative details of customers and it wil help back to identify customers with good and bad credit.\n",
        "And which can also leads too customer rentention which is the most important."
      ],
      "metadata": {
        "id": "-LTDqpHCXP-C"
      },
      "id": "-LTDqpHCXP-C",
      "execution_count": null,
      "outputs": []
    },
    {
      "cell_type": "code",
      "source": [
        "###3. If any, what is the gap in the knowledge or how your proposed method can be helpful if required in future for any bank in India.\n",
        "Banks always have some customers who do not pay on time. Some of these payment defualts are incidental one time while others are habitual.\n",
        "Nonetheless delayed collections cost bank in terms of cost of collection and cost of turnover of money to earn interset. Predictive anylytics can hep in identifying the potential\n",
        "custonmers who are likely to defualt,well before they defualt.Portfolio risks can be evaluated with better accuracy and collection efoort can be made more productive based on these risks.\n",
        "\n"
      ],
      "metadata": {
        "id": "AK2JtJF6X2cU"
      },
      "id": "AK2JtJF6X2cU",
      "execution_count": null,
      "outputs": []
    },
    {
      "cell_type": "code",
      "source": [
        "###Section 2: Initial Hypothesis (or hypotheses)\n",
        "\n",
        "Here we have choosen DA track.\n",
        "\n",
        "Important features that may impact a ML model.\n",
        "\n",
        "##Features that may impact a ML model- Annual income, Type_income,Car_owner,Propert-Owner,Housing_type,Type_Occupation are some of importannt features that are for model accuracy.\n",
        "\n",
        "##Feature that do not impact-  'GENDER', Ind_ID,CHILDREN,'EDUCATION', Marital_status,'Birthday_count,Employed_days', 'Mobile_phone',Family_Members,'Work_Phone', 'Phone', 'EMAIL_ID'.\n",
        "\n",
        "\n"
      ],
      "metadata": {
        "id": "WtaEEzDJYXJ8"
      },
      "id": "WtaEEzDJYXJ8",
      "execution_count": null,
      "outputs": []
    },
    {
      "cell_type": "code",
      "source": [
        "\n",
        "Section 3: Data analysis approach\n",
        "\n",
        "1.# What approach are you going to take in order to prove or disprove your hypothesis? \n",
        "\n",
        "# Null and alternative hypothesis\n",
        "\n",
        "\n",
        "Null Hypothesis: There is no significant difference in credit card approval rates between applicants based on their employment status, income level and other available factors. This means that these factors do not have any impact on an applicant's likelihood of getting approved for a credit card. If the null hypothesis is true, then credit card companies would approve applications based on some other factors or criteria.\n",
        "\n",
        "Alternate Hypothesis: There is a significant difference in credit card approval rates between applicants based on their employment status, income level and other available factors. This means that these factors do have an impact on an applicant's likelihood of getting approved for a credit card. If the alternate hypothesis is true, then credit card companies would consider these factors while deciding whether to approve or deny a credit card application.\n",
        "\n",
        "\n",
        "\n",
        "2.##What feature engineering techniques will be relevant to your project?\n",
        "\n",
        "Normalization,One hot encoding data cleaning and exploratory data anaylis.\n"
      ],
      "metadata": {
        "id": "ws8FU-9HhYzN"
      },
      "id": "ws8FU-9HhYzN",
      "execution_count": null,
      "outputs": []
    },
    {
      "cell_type": "code",
      "source": [
        "##In this EDA approach\n",
        "\n",
        "1. We have first found out and focussed on null values. We came to know that there were many null values present in our dataset.\n",
        "\n",
        "Such as Type_occation=488, Annaul_income=23,Birthday_count=22 and GENDER =7\n",
        "\n",
        "So from here we came to know what Type of occation has mpst number of null vales with 31.52%. Most of the client that has not provided their occupation is Laborers -288\n",
        "\n",
        "2.So we removed null values for certain columns\n",
        "\n",
        "3.Then we imputed nulll values with relevant values for certain columns\n",
        "\n",
        "4. With help of box plot we conclude that outliers\n",
        "\n",
        "\n",
        "5.We Imputed outliers with relevant values\n",
        "\n",
        "6. We cameto kno wMajority of clients are females\n",
        "\n",
        "7. WE then perform EDA\n"
      ],
      "metadata": {
        "id": "43H1Quj-hx_g",
        "colab": {
          "base_uri": "https://localhost:8080/",
          "height": 130
        },
        "outputId": "3776b2d6-f1e9-4b02-982d-9be0aba13665"
      },
      "id": "43H1Quj-hx_g",
      "execution_count": 1,
      "outputs": [
        {
          "output_type": "error",
          "ename": "SyntaxError",
          "evalue": "ignored",
          "traceback": [
            "\u001b[0;36m  File \u001b[0;32m\"<ipython-input-1-80e3065b6781>\"\u001b[0;36m, line \u001b[0;32m1\u001b[0m\n\u001b[0;31m    In this EDA approach\u001b[0m\n\u001b[0m       ^\u001b[0m\n\u001b[0;31mSyntaxError\u001b[0m\u001b[0;31m:\u001b[0m invalid syntax\n"
          ]
        }
      ]
    },
    {
      "cell_type": "code",
      "source": [],
      "metadata": {
        "id": "1_ikLoZfZbkj"
      },
      "id": "1_ikLoZfZbkj",
      "execution_count": null,
      "outputs": []
    }
  ],
  "metadata": {
    "kernelspec": {
      "display_name": "Python 3 (ipykernel)",
      "language": "python",
      "name": "python3"
    },
    "language_info": {
      "codemirror_mode": {
        "name": "ipython",
        "version": 3
      },
      "file_extension": ".py",
      "mimetype": "text/x-python",
      "name": "python",
      "nbconvert_exporter": "python",
      "pygments_lexer": "ipython3",
      "version": "3.9.12"
    },
    "colab": {
      "provenance": []
    }
  },
  "nbformat": 4,
  "nbformat_minor": 5
}